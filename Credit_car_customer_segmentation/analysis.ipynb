{
 "cells": [
  {
   "cell_type": "markdown",
   "id": "b5e92081",
   "metadata": {},
   "source": [
    "### 1. Introduction\n"
   ]
  },
  {
   "cell_type": "markdown",
   "id": "9b4dc504",
   "metadata": {},
   "source": [
    "We'll play the role of a data scientist working for a credit card company\n",
    "\n",
    "The dataset contains information about the company's clients and we're asked to help segment them into different groups in order to apply different business strategies for each type of customer"
   ]
  },
  {
   "cell_type": "markdown",
   "id": "a9f59274",
   "metadata": {},
   "source": [
    "### 2. Libreries"
   ]
  },
  {
   "cell_type": "code",
   "execution_count": null,
   "id": "43b13c46",
   "metadata": {},
   "outputs": [],
   "source": [
    "import pandas as pd\n",
    "import numpy as np\n",
    "import matplotlib.pyplot as plt\n",
    "import seaborn as sns\n",
    "from sklearn.preprocessing import StandardScaler\n",
    "from sklearn.cluster import KMeans"
   ]
  },
  {
   "cell_type": "code",
   "execution_count": null,
   "id": "0367f0a5",
   "metadata": {},
   "outputs": [],
   "source": [
    "df = pd.read_csv('customer_segmentation.csv')"
   ]
  },
  {
   "cell_type": "code",
   "execution_count": null,
   "id": "e227efd8",
   "metadata": {},
   "outputs": [],
   "source": [
    "df.describe()"
   ]
  },
  {
   "cell_type": "code",
   "execution_count": null,
   "id": "2599e0f8",
   "metadata": {},
   "outputs": [],
   "source": [
    "fig, ax = plt.subplots(figsize = (12,10))\n",
    "\n",
    "# removing the customer's id before plotting the distributions\n",
    "df.drop('custoemr_id', axis = 1).hist(ax = ax)\n",
    "\n",
    "plt.tight_layout()\n",
    "plt.show()"
   ]
  },
  {
   "cell_type": "markdown",
   "id": "0509a2e6",
   "metadata": {},
   "source": [
    "It's always import to look the shape of things. For our culstering purposes today, this isn't going to be something we have to worry about a ton, but if you aren't happy with this results, this could be  a place to coem back and look and see if there's any modifications you can make to the dataset to guide the clusters in a more targeted way.\n"
   ]
  },
  {
   "cell_type": "code",
   "execution_count": null,
   "id": "cc8961b0",
   "metadata": {},
   "outputs": [],
   "source": [
    "correlations = df.drop('customer_id', axis = 1).corr(numeric_only = True)\n",
    "\n",
    "fig, ax = plt.subplots(figsizes = (12,8))\n",
    "sns.heatmap(correlations[(correlations > 0.3) | (correlations < -0.3)], cmap = 'Blues', annot = True, ax=ax)\n",
    "\n",
    "plt.tight_layout()\n",
    "plt.show()\n"
   ]
  },
  {
   "cell_type": "markdown",
   "id": "f2049475",
   "metadata": {},
   "source": [
    "### 3. Feature engenirring"
   ]
  },
  {
   "cell_type": "code",
   "execution_count": null,
   "id": "1d6996e3",
   "metadata": {},
   "outputs": [],
   "source": [
    "customers_modif = df.copy()\n",
    "\n",
    "customers_modif['gender'] = df['gender'].aaply(lambda x : 1 if x == 'M' else 0)\n",
    "customers_modif.head()"
   ]
  },
  {
   "cell_type": "code",
   "execution_count": null,
   "id": "c771ee6d",
   "metadata": {},
   "outputs": [],
   "source": [
    "education_mapping = {'Uneducated' : 0, 'High Scool' :1, 'College' : 2,\n",
    "                     'Graduate': 3, 'post-Graduate' : 4, 'Doctorate': 5}\n",
    "customers_modif['education_level'] = customers_modif['education_level'].map(education_mapping)\n",
    "\n",
    "customers_modif.head()"
   ]
  },
  {
   "cell_type": "code",
   "execution_count": null,
   "id": "39aec04a",
   "metadata": {},
   "outputs": [],
   "source": [
    "dummies = pd.get_dummies(customers_modif[['marital_status']])\n",
    "\n",
    "customers_modif = pd.concat([customers_modif, dummies], axis = 1)\n",
    "customers_modif.drop(['marital_status'], axis = 1, inplace = True)\n",
    "\n",
    "print(customers_modif.info())\n",
    "customers_modif.head()"
   ]
  },
  {
   "cell_type": "code",
   "execution_count": null,
   "id": "fab07ed5",
   "metadata": {},
   "outputs": [],
   "source": [
    "X = customers_modif.drop('customer_id', axis = 1)\n",
    "\n",
    "scaler = StandardScaler()\n",
    "scaler.fit(X)\n",
    "\n",
    "X_Scaled = scaler.transform(X)\n",
    "X_Scaled"
   ]
  },
  {
   "cell_type": "code",
   "execution_count": null,
   "id": "4b133fb8",
   "metadata": {},
   "outputs": [],
   "source": [
    "## The Elbow rule\n",
    "\n",
    "X = pd.DataFrame(X_Scaled)\n",
    "inertias = []\n",
    "\n",
    "for k in range(1,11):\n",
    "    model = KMeans(n_clusters= k)\n",
    "    y = model.fit_predict(X)\n",
    "    inertias.append(model.inertia_)\n",
    "\n",
    "plt.figure(figsize = (12,8))\n",
    "plt.plot(range(1,11), inertias, marker = 'o')\n",
    "plt.xticks(ticks = range(1,11), inertias, marker = 'o')\n",
    "plt.xticks(ticks = range(1,11), labels = range(1,11))\n",
    "plt.title('Inertia vs Number of Clusters')\n",
    "\n",
    "plt.tight_layout()\n",
    "plt.show()"
   ]
  },
  {
   "cell_type": "markdown",
   "id": "f691f91d",
   "metadata": {},
   "source": [
    "The elbow rule is a visual way of looking at the inertia of different numbers of clusters. So what we're going to do is initializing an empty list calle dinertias. Inertias in Kmeans clustering is a sum os the squared distances between every data point and its corresponding centrid. So the centrid is the center of a cluster, so the closer a point is to the centroid, the smaller the inertia. Basically, the closer all the points are to the centroid, the smaller the inertia. ANd teh smaller the inertia is better because it means the cluster is stronger. However, you could technically have a centroid for every point in your dataset. If you have 100 data points, you have 100 centroids, inertia zero. Fantastic, right? No, because then you don't have any insight. If you have 100 clusters and 100 data points, credic card company's going to say, what can we do with that? So where's the sweet spot? You don't wnat one cluster, we don't want 100 cluster. we use the elbow rule. "
   ]
  },
  {
   "cell_type": "markdown",
   "id": "6a328824",
   "metadata": {},
   "source": [
    "What we want to look for is where is the slope tapering off? After 8 it starts do shallow, which tell us this is our elbow. But eeverytime you run it'll get a different result if you don't set a seed. There are a few strategies to sonsider when you do this analysis. You can look for the average elbow."
   ]
  },
  {
   "cell_type": "code",
   "execution_count": null,
   "id": "fadb8f39",
   "metadata": {},
   "outputs": [],
   "source": [
    "model = KMeans(n_clusters=5)\n",
    "y = model.fit_predict(X_Scaled)\n",
    "y"
   ]
  },
  {
   "cell_type": "code",
   "execution_count": null,
   "id": "d751ea6e",
   "metadata": {},
   "outputs": [],
   "source": [
    "df['CLUSTER'] = y + 1\n",
    "df.head()"
   ]
  },
  {
   "cell_type": "markdown",
   "id": "07318c18",
   "metadata": {},
   "source": [
    "We are not done, we need to do a analysis of what these clusters are telling us to give information to our end user. Look at our numeric variables, group that cluster and look at some plots"
   ]
  },
  {
   "cell_type": "code",
   "execution_count": null,
   "id": "4a439eca",
   "metadata": {},
   "outputs": [],
   "source": [
    "numeric_columns = df.select_dtypes(include = np.number).drop(['customer_id', 'CLUSTER', axis = 1]).columns\n",
    "\n",
    "fig = plt.figure(figsize = (20,20))\n",
    "for i, column in enumerate(numeric_columns):\n",
    "    df_plot = df.groupby('CLUSTER')[column].mean()\n",
    "    ax = fig.add_subplot(5,2, i+1)\n",
    "    ax.bar(df_plot.index, df_plot, color = sns.color_palette('Set1'), alpha = 0.6)\n",
    "    ax.set_title(f'Average {column.title()} per Cluster', alpha = 0.5)\n",
    "    ax.xaxis.grid(False)\n",
    "\n",
    "    plt.tight_layout()\n",
    "    plt.show()"
   ]
  },
  {
   "cell_type": "code",
   "execution_count": null,
   "id": "71c44cd9",
   "metadata": {},
   "outputs": [],
   "source": [
    "fig, ((ax1, ax2), (ax3, ax4)) = plt.subplots(2,2, figsize = (16,8)) \n",
    "sns.scatterplot(x = 'age', y = 'months_on_book', huw = 'CLUSTER',\n",
    "                 data = df, palette = 'tab10', alpha = 0.4, ax = ax1)\n",
    "sns.scatterplot(x = 'estimated_income', y = 'credit_limit', hue = 'CLUSTER',\n",
    "                data = df, palette = 'tab10', alpha = 0.4, ax = ax2)\n",
    "sns.scatterplot(x = 'credit_limit', y = 'avg_utilization_ratio', hue = 'CLUSTER', \n",
    "                data = df, palette = 'tab10', alpha = 0.4, ax = ax3)\n",
    "sns.scatterplot(x = 'total_trans_count', y = 'total_trans_amount', hue = 'CLUSTER',\n",
    "                data = df, palette= 'tab10', alpha = 0.4, ax = ax4)\n",
    "\n",
    "plt.tight_layout()\n",
    "plt.show()"
   ]
  },
  {
   "cell_type": "code",
   "execution_count": null,
   "id": "5bc73163",
   "metadata": {},
   "outputs": [],
   "source": [
    "cat_columns = df.select_dtypes(include =['object']) \n",
    "\n",
    "fig = plt.figure(figsize = (18,6))\n",
    "for i, col in enumerate(cat_columns):\n",
    "    plot_df = pd.crosstab(index = df['CLSUTER'], columns = df[col], aggfunc= 'size', normalize= 'inc')\n",
    "    ax = fig.add_subplot(1,3, i+1)\n",
    "    plot_df.plot.bar(stacked = True, ax = ax, alpha = 0.6)\n",
    "    ax.set_title(f'% {col.title()} per Cluster', alpha = 0.5)\n",
    "\n",
    "    ax.set_ylim(0,1.4)\n",
    "    ax.legend(frameon = False)\n",
    "    ax.xaxis.grid(False)\n",
    "\n",
    "    labels = [0, 0.2, 0.4, 0.6, 0.8, 1]\n",
    "\n",
    "plt.tight_layout()\n",
    "plt.show()\n"
   ]
  },
  {
   "cell_type": "markdown",
   "id": "da3b1514",
   "metadata": {},
   "source": [
    "**Cluster 1**\n",
    "- Generally male\n",
    "- High stimated income (~$100K)\n",
    "- High credit limit\n",
    "- Very low utilization ratios\n",
    "\n",
    "> Customers have moneey to spend so can be incentivized to spend more"
   ]
  },
  {
   "cell_type": "markdown",
   "id": "f3dafce7",
   "metadata": {},
   "source": []
  }
 ],
 "metadata": {
  "language_info": {
   "name": "python"
  }
 },
 "nbformat": 4,
 "nbformat_minor": 5
}
