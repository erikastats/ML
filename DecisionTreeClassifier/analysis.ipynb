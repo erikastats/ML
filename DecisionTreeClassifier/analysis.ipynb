{
 "cells": [
  {
   "cell_type": "markdown",
   "id": "8c4146d8",
   "metadata": {},
   "source": [
    "Toy dataset\n",
    "Format: each row is an example\n",
    "The last Column is the label\n",
    "The first two columns are features\n",
    "Feel Free to play with it by adding more features & examples\n",
    "Interesting note: I'"
   ]
  },
  {
   "cell_type": "code",
   "execution_count": null,
   "id": "b6ae8fcf",
   "metadata": {},
   "outputs": [],
   "source": []
  }
 ],
 "metadata": {
  "language_info": {
   "name": "python"
  }
 },
 "nbformat": 4,
 "nbformat_minor": 5
}
