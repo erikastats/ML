{
 "cells": [
  {
   "cell_type": "markdown",
   "id": "fe4b0da1",
   "metadata": {},
   "source": [
    "## Homework exercise assignment\n",
    "\n",
    "Upgrade the day 1 project to summarize a webpage to use an Open Source model running locally via Ollama rather than OpenAI\n",
    "\n",
    "you'll be able to use this technique for all subsequent projects if you'd prefer not to use paid APIs\n",
    "\n",
    "*Benefits:*\n",
    "\n",
    "    1. No API Charges - open-source\n",
    "    2. Data doesn't leave your box\n",
    "\n",
    "*Disadvantages:*\n",
    "\n",
    "    1. Significantly less power than Frontier Model\n",
    "\n",
    "## recap on installation of Ollama\n",
    "\n",
    "Simply visit ollama.com and install\"\n",
    "\n",
    "Once complete, the ollama server should already be running locally.\n",
    "IF you visit:\n",
    "http://localhost:11434/\n",
    "\n",
    "You should see the message Ollama is running\n",
    "\n",
    "If not, bring up a new powershell and enter ollama serve\n",
    "Then try http://localhost:11434/ again.\n"
   ]
  },
  {
   "cell_type": "code",
   "execution_count": 1,
   "id": "4c60704b",
   "metadata": {},
   "outputs": [],
   "source": [
    "# imports \n",
    "import requests\n",
    "from bs4 import BeautifulSoup\n",
    "from IPython.display import Markdown, display"
   ]
  },
  {
   "cell_type": "code",
   "execution_count": 2,
   "id": "880e0218",
   "metadata": {},
   "outputs": [],
   "source": [
    "# Constants\n",
    "\n",
    "OLLAMA_API = \"http://localhost:11434/api/chat\"\n",
    "HEADERS = {\"Content-Type\": \"application/json\"}\n",
    "MODEL = \"llama3.2\""
   ]
  },
  {
   "cell_type": "code",
   "execution_count": 4,
   "id": "2b96c191",
   "metadata": {},
   "outputs": [],
   "source": [
    "messages = [{\"role\" : \"user\", \"content\" : \"Describe some of the business applications fo Generative AI\"}]"
   ]
  },
  {
   "cell_type": "code",
   "execution_count": 6,
   "id": "7b0de39a",
   "metadata": {},
   "outputs": [],
   "source": [
    "payload = {\n",
    "    \"model\" : MODEL,\n",
    "    \"messages\" : messages,\n",
    "    \"stream\" : False\n",
    "}"
   ]
  },
  {
   "cell_type": "code",
   "execution_count": 7,
   "id": "df8d0002",
   "metadata": {},
   "outputs": [
    {
     "name": "stdout",
     "output_type": "stream",
     "text": [
      "Generative AI has numerous business applications across various industries. Here are some examples:\n",
      "\n",
      "1. **Content Generation**: Generative AI can create high-quality content such as articles, social media posts, and product descriptions, reducing the workload on human writers and editors.\n",
      "2. **Product Design**: Generative AI can design new products, packaging, and branding materials, allowing companies to quickly test different designs and reduce production costs.\n",
      "3. **Marketing Automation**: Generative AI can create personalized marketing campaigns, automate email marketing, and suggest product recommendations based on customer behavior.\n",
      "4. **Customer Service Chatbots**: Generative AI-powered chatbots can provide 24/7 customer support, answering common queries and routing complex issues to human representatives.\n",
      "5. **Data Analysis**: Generative AI can analyze large datasets, identify patterns, and generate insights, helping businesses make data-driven decisions.\n",
      "6. **Predictive Maintenance**: Generative AI can predict equipment failures, reducing downtime and increasing productivity in industries such as manufacturing and healthcare.\n",
      "7. **Content Optimization**: Generative AI can optimize website content for search engines, improving search engine rankings and driving more organic traffic to the site.\n",
      "8. **Image and Video Generation**: Generative AI can create high-quality images and videos, such as product visuals, social media graphics, and advertising content.\n",
      "9. **Music and Audio Generation**: Generative AI can compose music, create audio effects, and generate soundscapes for various applications, including film and video production.\n",
      "10. **Language Translation**: Generative AI can translate languages in real-time, reducing the need for human translators and enabling businesses to expand into new markets.\n",
      "\n",
      "Industry-specific applications:\n",
      "\n",
      "1. **Finance**: Generative AI can analyze financial data, predict stock prices, and generate investment recommendations.\n",
      "2. **Healthcare**: Generative AI can analyze medical images, diagnose diseases, and develop personalized treatment plans.\n",
      "3. **Education**: Generative AI can create adaptive learning materials, grade assignments, and provide personalized feedback to students.\n",
      "4. **Retail**: Generative AI can analyze customer behavior, predict sales trends, and optimize inventory management.\n",
      "\n",
      "These are just a few examples of the many business applications of Generative AI. As the technology continues to evolve, we can expect to see even more innovative uses in various industries.\n"
     ]
    }
   ],
   "source": [
    "response = requests.post(OLLAMA_API, json = payload, headers = HEADERS)\n",
    "print(response.json()['message']['content'])"
   ]
  },
  {
   "cell_type": "code",
   "execution_count": null,
   "id": "91f2436d",
   "metadata": {},
   "outputs": [],
   "source": [
    "import ollama\n",
    "\n",
    "response = ollama.chat(model = MODEL, messages = messages)\n",
    "print(response['message']['content'])"
   ]
  },
  {
   "cell_type": "markdown",
   "id": "c2bc6f06",
   "metadata": {},
   "source": [
    "## NOW the exercise for you\n",
    "\n",
    "Take the code from day1 and incorporate it here, to build a website summarizer that uses Llama 3.2 running locally instead of OpenAI"
   ]
  },
  {
   "cell_type": "code",
   "execution_count": null,
   "id": "ca80b1ff",
   "metadata": {},
   "outputs": [],
   "source": []
  }
 ],
 "metadata": {
  "kernelspec": {
   "display_name": "dsa",
   "language": "python",
   "name": "python3"
  },
  "language_info": {
   "codemirror_mode": {
    "name": "ipython",
    "version": 3
   },
   "file_extension": ".py",
   "mimetype": "text/x-python",
   "name": "python",
   "nbconvert_exporter": "python",
   "pygments_lexer": "ipython3",
   "version": "3.12.7"
  }
 },
 "nbformat": 4,
 "nbformat_minor": 5
}
