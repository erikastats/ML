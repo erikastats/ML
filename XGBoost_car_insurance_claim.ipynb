{
 "cells": [
  {
   "cell_type": "code",
   "execution_count": 1,
   "id": "6df08bfa",
   "metadata": {},
   "outputs": [
    {
     "name": "stderr",
     "output_type": "stream",
     "text": [
      "c:\\Users\\erika\\anaconda3\\envs\\dsa\\Lib\\site-packages\\tqdm\\auto.py:21: TqdmWarning: IProgress not found. Please update jupyter and ipywidgets. See https://ipywidgets.readthedocs.io/en/stable/user_install.html\n",
      "  from .autonotebook import tqdm as notebook_tqdm\n"
     ]
    }
   ],
   "source": [
    "import pandas as pd\n",
    "import numpy as np \n",
    "import seaborn as sns \n",
    "import matplotlib.pyplot as plt\n",
    "import plotly.express as px\n",
    "\n",
    "from sklearn.pipeline import Pipeline\n",
    "from sklearn.preprocessing import OneHotEncoder, OrdinalEncoder, StandardScaler\n",
    "from sklearn.impute import SimpleImputer, KNNImputer\n",
    "from sklearn.base import BaseEstimator, TransformerMixin \n",
    "from sklearn.compose import ColumnTransformer\n",
    "from sklearn.model_selection import train_test_split, cross_val_score, RandomizedSearchCV, GridSearchCV, KFold\n",
    "from sklearn.linear_model import LogisticRegression, LinearRegression, SGDRegressor\n",
    "from sklearn.ensemble import RandomForestClassifier, AdaBoostClassifier, GradientBoostingClassifier, BaggingClassifier, RandomForestRegressor\n",
    "from sklearn.neighbors import KNeighborsClassifier, KNeighborsRegressor\n",
    "from sklearn.svm import LinearSVC, SVR\n",
    "from sklearn.tree import DecisionTreeClassifier, DecisionTreeRegressor\n",
    "from sklearn.metrics import ConfusionMatrixDisplay, f1_score, make_scorer, confusion_matrix, mean_squared_error, mean_absolute_error\n",
    "\n",
    "from statsmodels.stats.outliers_influence import variance_inflation_factor\n",
    "from statsmodels.tools.tools import add_constant \n",
    "\n",
    "from xgboost import XGBClassifier, XGBRegressor\n",
    "from catboost import CatBoostClassifier\n",
    "\n",
    "from scipy.stats import randint, uniform\n",
    "\n",
    "import os\n",
    "import kagglehub"
   ]
  },
  {
   "cell_type": "markdown",
   "id": "8b963798",
   "metadata": {},
   "source": [
    "### 1.basic Cleaning and Creating Train/Test Split\n",
    "1.1 Reading in the data and inspection"
   ]
  },
  {
   "cell_type": "code",
   "execution_count": 2,
   "id": "8db65c6b",
   "metadata": {},
   "outputs": [
    {
     "name": "stdout",
     "output_type": "stream",
     "text": [
      "Path to dataset files: C:\\Users\\erika\\.cache\\kagglehub\\datasets\\xiaomengsun\\car-insurance-claim-data\\versions\\1\n",
      "Contents: ['car_insurance_claim.csv']\n"
     ]
    },
    {
     "data": {
      "text/html": [
       "<div>\n",
       "<style scoped>\n",
       "    .dataframe tbody tr th:only-of-type {\n",
       "        vertical-align: middle;\n",
       "    }\n",
       "\n",
       "    .dataframe tbody tr th {\n",
       "        vertical-align: top;\n",
       "    }\n",
       "\n",
       "    .dataframe thead th {\n",
       "        text-align: right;\n",
       "    }\n",
       "</style>\n",
       "<table border=\"1\" class=\"dataframe\">\n",
       "  <thead>\n",
       "    <tr style=\"text-align: right;\">\n",
       "      <th></th>\n",
       "      <th>ID</th>\n",
       "      <th>KIDSDRIV</th>\n",
       "      <th>BIRTH</th>\n",
       "      <th>AGE</th>\n",
       "      <th>HOMEKIDS</th>\n",
       "      <th>YOJ</th>\n",
       "      <th>INCOME</th>\n",
       "      <th>PARENT1</th>\n",
       "      <th>HOME_VAL</th>\n",
       "      <th>MSTATUS</th>\n",
       "      <th>GENDER</th>\n",
       "      <th>EDUCATION</th>\n",
       "      <th>OCCUPATION</th>\n",
       "      <th>TRAVTIME</th>\n",
       "      <th>CAR_USE</th>\n",
       "      <th>BLUEBOOK</th>\n",
       "      <th>TIF</th>\n",
       "      <th>CAR_TYPE</th>\n",
       "      <th>RED_CAR</th>\n",
       "      <th>OLDCLAIM</th>\n",
       "      <th>CLM_FREQ</th>\n",
       "      <th>REVOKED</th>\n",
       "      <th>MVR_PTS</th>\n",
       "      <th>CLM_AMT</th>\n",
       "      <th>CAR_AGE</th>\n",
       "      <th>CLAIM_FLAG</th>\n",
       "      <th>URBANICITY</th>\n",
       "    </tr>\n",
       "  </thead>\n",
       "  <tbody>\n",
       "    <tr>\n",
       "      <th>0</th>\n",
       "      <td>63581743</td>\n",
       "      <td>0</td>\n",
       "      <td>16MAR39</td>\n",
       "      <td>60.0</td>\n",
       "      <td>0</td>\n",
       "      <td>11.0</td>\n",
       "      <td>$67,349</td>\n",
       "      <td>No</td>\n",
       "      <td>$0</td>\n",
       "      <td>z_No</td>\n",
       "      <td>M</td>\n",
       "      <td>PhD</td>\n",
       "      <td>Professional</td>\n",
       "      <td>14</td>\n",
       "      <td>Private</td>\n",
       "      <td>$14,230</td>\n",
       "      <td>11</td>\n",
       "      <td>Minivan</td>\n",
       "      <td>yes</td>\n",
       "      <td>$4,461</td>\n",
       "      <td>2</td>\n",
       "      <td>No</td>\n",
       "      <td>3</td>\n",
       "      <td>$0</td>\n",
       "      <td>18.0</td>\n",
       "      <td>0</td>\n",
       "      <td>Highly Urban/ Urban</td>\n",
       "    </tr>\n",
       "    <tr>\n",
       "      <th>1</th>\n",
       "      <td>132761049</td>\n",
       "      <td>0</td>\n",
       "      <td>21JAN56</td>\n",
       "      <td>43.0</td>\n",
       "      <td>0</td>\n",
       "      <td>11.0</td>\n",
       "      <td>$91,449</td>\n",
       "      <td>No</td>\n",
       "      <td>$257,252</td>\n",
       "      <td>z_No</td>\n",
       "      <td>M</td>\n",
       "      <td>z_High School</td>\n",
       "      <td>z_Blue Collar</td>\n",
       "      <td>22</td>\n",
       "      <td>Commercial</td>\n",
       "      <td>$14,940</td>\n",
       "      <td>1</td>\n",
       "      <td>Minivan</td>\n",
       "      <td>yes</td>\n",
       "      <td>$0</td>\n",
       "      <td>0</td>\n",
       "      <td>No</td>\n",
       "      <td>0</td>\n",
       "      <td>$0</td>\n",
       "      <td>1.0</td>\n",
       "      <td>0</td>\n",
       "      <td>Highly Urban/ Urban</td>\n",
       "    </tr>\n",
       "    <tr>\n",
       "      <th>2</th>\n",
       "      <td>921317019</td>\n",
       "      <td>0</td>\n",
       "      <td>18NOV51</td>\n",
       "      <td>48.0</td>\n",
       "      <td>0</td>\n",
       "      <td>11.0</td>\n",
       "      <td>$52,881</td>\n",
       "      <td>No</td>\n",
       "      <td>$0</td>\n",
       "      <td>z_No</td>\n",
       "      <td>M</td>\n",
       "      <td>Bachelors</td>\n",
       "      <td>Manager</td>\n",
       "      <td>26</td>\n",
       "      <td>Private</td>\n",
       "      <td>$21,970</td>\n",
       "      <td>1</td>\n",
       "      <td>Van</td>\n",
       "      <td>yes</td>\n",
       "      <td>$0</td>\n",
       "      <td>0</td>\n",
       "      <td>No</td>\n",
       "      <td>2</td>\n",
       "      <td>$0</td>\n",
       "      <td>10.0</td>\n",
       "      <td>0</td>\n",
       "      <td>Highly Urban/ Urban</td>\n",
       "    </tr>\n",
       "    <tr>\n",
       "      <th>3</th>\n",
       "      <td>727598473</td>\n",
       "      <td>0</td>\n",
       "      <td>05MAR64</td>\n",
       "      <td>35.0</td>\n",
       "      <td>1</td>\n",
       "      <td>10.0</td>\n",
       "      <td>$16,039</td>\n",
       "      <td>No</td>\n",
       "      <td>$124,191</td>\n",
       "      <td>Yes</td>\n",
       "      <td>z_F</td>\n",
       "      <td>z_High School</td>\n",
       "      <td>Clerical</td>\n",
       "      <td>5</td>\n",
       "      <td>Private</td>\n",
       "      <td>$4,010</td>\n",
       "      <td>4</td>\n",
       "      <td>z_SUV</td>\n",
       "      <td>no</td>\n",
       "      <td>$38,690</td>\n",
       "      <td>2</td>\n",
       "      <td>No</td>\n",
       "      <td>3</td>\n",
       "      <td>$0</td>\n",
       "      <td>10.0</td>\n",
       "      <td>0</td>\n",
       "      <td>Highly Urban/ Urban</td>\n",
       "    </tr>\n",
       "    <tr>\n",
       "      <th>4</th>\n",
       "      <td>450221861</td>\n",
       "      <td>0</td>\n",
       "      <td>05JUN48</td>\n",
       "      <td>51.0</td>\n",
       "      <td>0</td>\n",
       "      <td>14.0</td>\n",
       "      <td>NaN</td>\n",
       "      <td>No</td>\n",
       "      <td>$306,251</td>\n",
       "      <td>Yes</td>\n",
       "      <td>M</td>\n",
       "      <td>&lt;High School</td>\n",
       "      <td>z_Blue Collar</td>\n",
       "      <td>32</td>\n",
       "      <td>Private</td>\n",
       "      <td>$15,440</td>\n",
       "      <td>7</td>\n",
       "      <td>Minivan</td>\n",
       "      <td>yes</td>\n",
       "      <td>$0</td>\n",
       "      <td>0</td>\n",
       "      <td>No</td>\n",
       "      <td>0</td>\n",
       "      <td>$0</td>\n",
       "      <td>6.0</td>\n",
       "      <td>0</td>\n",
       "      <td>Highly Urban/ Urban</td>\n",
       "    </tr>\n",
       "  </tbody>\n",
       "</table>\n",
       "</div>"
      ],
      "text/plain": [
       "          ID  KIDSDRIV    BIRTH   AGE  HOMEKIDS   YOJ   INCOME PARENT1  \\\n",
       "0   63581743         0  16MAR39  60.0         0  11.0  $67,349      No   \n",
       "1  132761049         0  21JAN56  43.0         0  11.0  $91,449      No   \n",
       "2  921317019         0  18NOV51  48.0         0  11.0  $52,881      No   \n",
       "3  727598473         0  05MAR64  35.0         1  10.0  $16,039      No   \n",
       "4  450221861         0  05JUN48  51.0         0  14.0      NaN      No   \n",
       "\n",
       "   HOME_VAL MSTATUS GENDER      EDUCATION     OCCUPATION  TRAVTIME  \\\n",
       "0        $0    z_No      M            PhD   Professional        14   \n",
       "1  $257,252    z_No      M  z_High School  z_Blue Collar        22   \n",
       "2        $0    z_No      M      Bachelors        Manager        26   \n",
       "3  $124,191     Yes    z_F  z_High School       Clerical         5   \n",
       "4  $306,251     Yes      M   <High School  z_Blue Collar        32   \n",
       "\n",
       "      CAR_USE BLUEBOOK  TIF CAR_TYPE RED_CAR OLDCLAIM  CLM_FREQ REVOKED  \\\n",
       "0     Private  $14,230   11  Minivan     yes   $4,461         2      No   \n",
       "1  Commercial  $14,940    1  Minivan     yes       $0         0      No   \n",
       "2     Private  $21,970    1      Van     yes       $0         0      No   \n",
       "3     Private   $4,010    4    z_SUV      no  $38,690         2      No   \n",
       "4     Private  $15,440    7  Minivan     yes       $0         0      No   \n",
       "\n",
       "   MVR_PTS CLM_AMT  CAR_AGE  CLAIM_FLAG           URBANICITY  \n",
       "0        3      $0     18.0           0  Highly Urban/ Urban  \n",
       "1        0      $0      1.0           0  Highly Urban/ Urban  \n",
       "2        2      $0     10.0           0  Highly Urban/ Urban  \n",
       "3        3      $0     10.0           0  Highly Urban/ Urban  \n",
       "4        0      $0      6.0           0  Highly Urban/ Urban  "
      ]
     },
     "execution_count": 2,
     "metadata": {},
     "output_type": "execute_result"
    }
   ],
   "source": [
    "# Download latest version\n",
    "path = kagglehub.dataset_download(\"xiaomengsun/car-insurance-claim-data\")\n",
    "\n",
    "print(\"Path to dataset files:\", path)\n",
    "print(\"Contents:\", os.listdir(path))\n",
    "\n",
    "file_path = os.path.join(path, \"car_insurance_claim.csv\" )\n",
    "\n",
    "# Load itt as a DataFrame\n",
    "raw_data = pd.read_csv(file_path)\n",
    "\n",
    "#Show the first few rows\n",
    "pd.set_option('display.max_columns', None)\n",
    "raw_data.head()"
   ]
  },
  {
   "cell_type": "markdown",
   "id": "e014bed0",
   "metadata": {},
   "source": [
    "### Variables and Descripctions\n",
    "INDEX - Unique identifier  \n",
    "TARGET_FLAG - Claim has been made  \n",
    "TARGET_AMT - Claim value  \n",
    "AGE - Age of driver  \n",
    "BLUEBOOK - Value of vehicle  \n",
    "CAR_AGE - Car age in years  \n",
    "CAR_TYPE Type of vehicle  \n",
    "CLM_FRQ - Number of claims in past 5 years  \n",
    "EDUCATION - Highest level of education completed by policyholder  \n",
    "HOMEKIDS - NUmber of child at policyholder's address  \n",
    "HOME_VAL -  vALUE OF POLICYHOLDER'S HOME  \n",
    "INCOME - Income of policy holder  \n",
    "JOB - Type of job held by policyholder  \n",
    "KIDSDRIV - Number of children with access to policyholder's vehicle  \n",
    "MSTATUS - marital status  \n",
    "OLDCLAIM - Total value of claims in part 5 years  \n",
    "PARENT1 - Single parent  \n",
    "RED_CAR - Vehicle is red in colour  \n",
    "REVOKED - Licence has been revoked in past 7 years  \n",
    "SEX - Gender  \n",
    "TIF -  Policy tenure  \n",
    "TRAVTIME - Commute distance  \n",
    "URVANCITY - Address area type (urban/rural)  \n",
    "TOJ - Years polyholder's job has been held for  "
   ]
  },
  {
   "cell_type": "markdown",
   "id": "0928a8ef",
   "metadata": {},
   "source": [
    "We don't want to fundamentely change any data as we still not split our data into a test/train set. So we want to avoid any data leakage"
   ]
  },
  {
   "cell_type": "markdown",
   "id": "3e2c1e06",
   "metadata": {},
   "source": [
    "#### 1.2 Basic Data Cleaning \n"
   ]
  },
  {
   "cell_type": "code",
   "execution_count": 3,
   "id": "870c3bc4",
   "metadata": {},
   "outputs": [],
   "source": [
    "# Create new copy of data\n",
    "data_df = raw_data.copy()"
   ]
  },
  {
   "cell_type": "code",
   "execution_count": 4,
   "id": "c666b9bb",
   "metadata": {},
   "outputs": [],
   "source": [
    "# define updated column names\n",
    "col_names = {\n",
    "       'KIDSDRIV': 'num_young_drivers',\n",
    "    'BIRTH': 'date_of_birth',\n",
    "    'AGE': 'age',\n",
    "    'HOMEKIDS': 'num_of_children',\n",
    "    'YOJ': 'years_job_held_for',\n",
    "    'INCOME': 'income',\n",
    "    'PARENT1': 'single_parent',\n",
    "    'HOME_VAL': 'value_of_home',\n",
    "    'MSTATUS': 'married',\n",
    "    'GENDER': 'gender',\n",
    "    'EDUCATION': 'highest_education',\n",
    "    'OCCUPATION': 'occupation',\n",
    "    'TRAVTIME': 'commute_dist',\n",
    "    'CAR_USE': 'type_of_use',\n",
    "    'BLUEBOOK': 'vehicle_value',\n",
    "    'TIF': 'policy_tenure',\n",
    "    'CAR_TYPE': 'vehicle_type',\n",
    "    'RED_CAR': 'red_vehicle',\n",
    "    'OLDCLAIM': '5_year_total_claims_value',\n",
    "    'CLM_FREQ': '5_year_num_of_claims',\n",
    "    'REVOKED': 'licence_revoked',\n",
    "    'MVR_PTS': 'license_points',\n",
    "    'CLM_AMT': 'new_claim_value',\n",
    "    'CAR_AGE': 'vehicle_age',\n",
    "    'CLAIM_FLAG': 'is_claim',\n",
    "    'URBANICITY': 'address_type'\n",
    "\n",
    "}\n",
    "\n",
    "# Update col names\n",
    "data_df.rename(columns = col_names, inplace = True)\n"
   ]
  },
  {
   "cell_type": "code",
   "execution_count": 5,
   "id": "22138aca",
   "metadata": {},
   "outputs": [
    {
     "name": "stdout",
     "output_type": "stream",
     "text": [
      "<class 'pandas.core.frame.DataFrame'>\n",
      "RangeIndex: 10302 entries, 0 to 10301\n",
      "Data columns (total 27 columns):\n",
      " #   Column                     Non-Null Count  Dtype  \n",
      "---  ------                     --------------  -----  \n",
      " 0   ID                         10302 non-null  int64  \n",
      " 1   num_young_drivers          10302 non-null  int64  \n",
      " 2   date_of_birth              10302 non-null  object \n",
      " 3   age                        10295 non-null  float64\n",
      " 4   num_of_children            10302 non-null  int64  \n",
      " 5   years_job_held_for         9754 non-null   float64\n",
      " 6   income                     9732 non-null   object \n",
      " 7   single_parent              10302 non-null  object \n",
      " 8   value_of_home              9727 non-null   object \n",
      " 9   married                    10302 non-null  object \n",
      " 10  gender                     10302 non-null  object \n",
      " 11  highest_education          10302 non-null  object \n",
      " 12  occupation                 9637 non-null   object \n",
      " 13  commute_dist               10302 non-null  int64  \n",
      " 14  type_of_use                10302 non-null  object \n",
      " 15  vehicle_value              10302 non-null  object \n",
      " 16  policy_tenure              10302 non-null  int64  \n",
      " 17  vehicle_type               10302 non-null  object \n",
      " 18  red_vehicle                10302 non-null  object \n",
      " 19  5_year_total_claims_value  10302 non-null  object \n",
      " 20  5_year_num_of_claims       10302 non-null  int64  \n",
      " 21  licence_revoked            10302 non-null  object \n",
      " 22  license_points             10302 non-null  int64  \n",
      " 23  new_claim_value            10302 non-null  object \n",
      " 24  vehicle_age                9663 non-null   float64\n",
      " 25  is_claim                   10302 non-null  int64  \n",
      " 26  address_type               10302 non-null  object \n",
      "dtypes: float64(3), int64(8), object(16)\n",
      "memory usage: 2.1+ MB\n"
     ]
    }
   ],
   "source": [
    "# Summary the data\n",
    "data_df.info()"
   ]
  },
  {
   "cell_type": "code",
   "execution_count": 6,
   "id": "eaed5655",
   "metadata": {},
   "outputs": [
    {
     "data": {
      "text/plain": [
       "np.int64(1)"
      ]
     },
     "execution_count": 6,
     "metadata": {},
     "output_type": "execute_result"
    }
   ],
   "source": [
    "# Check for duplicate records\n",
    "data_df.duplicated().sum()"
   ]
  },
  {
   "cell_type": "code",
   "execution_count": 7,
   "id": "6c8a2eca",
   "metadata": {},
   "outputs": [],
   "source": [
    "# Drop duplicates\n",
    "data_df.drop_duplicates(inplace=True)"
   ]
  },
  {
   "cell_type": "code",
   "execution_count": 8,
   "id": "935dca35",
   "metadata": {},
   "outputs": [],
   "source": [
    "# Define currency cols\n",
    "currency_cols = ['income', 'value_of_home', 'vehicle_value', '5_year_total_claims_value', 'new_claim_value']\n",
    "\n",
    "# Create function to remove '$' and ','\n",
    "def format_currency_cols(data, cols):\n",
    "    for col in cols:\n",
    "        data[col] = data[col].replace('[\\\\$,]', \"\", regex = True).astype('Int64')\n",
    "    return data\n",
    "\n",
    "data_df = format_currency_cols(data_df, currency_cols)\n"
   ]
  },
  {
   "cell_type": "code",
   "execution_count": 9,
   "id": "6c3dd784",
   "metadata": {},
   "outputs": [
    {
     "data": {
      "text/plain": [
       "Index(['ID', 'num_young_drivers', 'date_of_birth', 'age', 'num_of_children',\n",
       "       'years_job_held_for', 'income', 'single_parent', 'value_of_home',\n",
       "       'married', 'gender', 'highest_education', 'occupation', 'commute_dist',\n",
       "       'type_of_use', 'vehicle_value', 'policy_tenure', 'vehicle_type',\n",
       "       'red_vehicle', '5_year_total_claims_value', '5_year_num_of_claims',\n",
       "       'licence_revoked', 'license_points', 'new_claim_value', 'vehicle_age',\n",
       "       'is_claim', 'address_type'],\n",
       "      dtype='object')"
      ]
     },
     "execution_count": 9,
     "metadata": {},
     "output_type": "execute_result"
    }
   ],
   "source": [
    "data_df.columns"
   ]
  },
  {
   "cell_type": "code",
   "execution_count": 10,
   "id": "b3bf1d6e",
   "metadata": {},
   "outputs": [
    {
     "data": {
      "text/html": [
       "<div>\n",
       "<style scoped>\n",
       "    .dataframe tbody tr th:only-of-type {\n",
       "        vertical-align: middle;\n",
       "    }\n",
       "\n",
       "    .dataframe tbody tr th {\n",
       "        vertical-align: top;\n",
       "    }\n",
       "\n",
       "    .dataframe thead th {\n",
       "        text-align: right;\n",
       "    }\n",
       "</style>\n",
       "<table border=\"1\" class=\"dataframe\">\n",
       "  <thead>\n",
       "    <tr style=\"text-align: right;\">\n",
       "      <th></th>\n",
       "      <th>ID</th>\n",
       "      <th>num_young_drivers</th>\n",
       "      <th>date_of_birth</th>\n",
       "      <th>age</th>\n",
       "      <th>num_of_children</th>\n",
       "      <th>years_job_held_for</th>\n",
       "      <th>income</th>\n",
       "      <th>single_parent</th>\n",
       "      <th>value_of_home</th>\n",
       "      <th>married</th>\n",
       "      <th>gender</th>\n",
       "      <th>highest_education</th>\n",
       "      <th>occupation</th>\n",
       "      <th>commute_dist</th>\n",
       "      <th>type_of_use</th>\n",
       "      <th>vehicle_value</th>\n",
       "      <th>policy_tenure</th>\n",
       "      <th>vehicle_type</th>\n",
       "      <th>red_vehicle</th>\n",
       "      <th>5_year_total_claims_value</th>\n",
       "      <th>5_year_num_of_claims</th>\n",
       "      <th>licence_revoked</th>\n",
       "      <th>license_points</th>\n",
       "      <th>new_claim_value</th>\n",
       "      <th>vehicle_age</th>\n",
       "      <th>is_claim</th>\n",
       "      <th>address_type</th>\n",
       "    </tr>\n",
       "  </thead>\n",
       "  <tbody>\n",
       "    <tr>\n",
       "      <th>0</th>\n",
       "      <td>63581743</td>\n",
       "      <td>0</td>\n",
       "      <td>16MAR39</td>\n",
       "      <td>60.0</td>\n",
       "      <td>0</td>\n",
       "      <td>11.0</td>\n",
       "      <td>67349</td>\n",
       "      <td>No</td>\n",
       "      <td>0</td>\n",
       "      <td>z_No</td>\n",
       "      <td>M</td>\n",
       "      <td>PhD</td>\n",
       "      <td>Professional</td>\n",
       "      <td>14</td>\n",
       "      <td>Private</td>\n",
       "      <td>14230</td>\n",
       "      <td>11</td>\n",
       "      <td>Minivan</td>\n",
       "      <td>yes</td>\n",
       "      <td>4461</td>\n",
       "      <td>2</td>\n",
       "      <td>No</td>\n",
       "      <td>3</td>\n",
       "      <td>0</td>\n",
       "      <td>18.0</td>\n",
       "      <td>0</td>\n",
       "      <td>Highly Urban/ Urban</td>\n",
       "    </tr>\n",
       "    <tr>\n",
       "      <th>1</th>\n",
       "      <td>132761049</td>\n",
       "      <td>0</td>\n",
       "      <td>21JAN56</td>\n",
       "      <td>43.0</td>\n",
       "      <td>0</td>\n",
       "      <td>11.0</td>\n",
       "      <td>91449</td>\n",
       "      <td>No</td>\n",
       "      <td>257252</td>\n",
       "      <td>z_No</td>\n",
       "      <td>M</td>\n",
       "      <td>z_High School</td>\n",
       "      <td>z_Blue Collar</td>\n",
       "      <td>22</td>\n",
       "      <td>Commercial</td>\n",
       "      <td>14940</td>\n",
       "      <td>1</td>\n",
       "      <td>Minivan</td>\n",
       "      <td>yes</td>\n",
       "      <td>0</td>\n",
       "      <td>0</td>\n",
       "      <td>No</td>\n",
       "      <td>0</td>\n",
       "      <td>0</td>\n",
       "      <td>1.0</td>\n",
       "      <td>0</td>\n",
       "      <td>Highly Urban/ Urban</td>\n",
       "    </tr>\n",
       "    <tr>\n",
       "      <th>2</th>\n",
       "      <td>921317019</td>\n",
       "      <td>0</td>\n",
       "      <td>18NOV51</td>\n",
       "      <td>48.0</td>\n",
       "      <td>0</td>\n",
       "      <td>11.0</td>\n",
       "      <td>52881</td>\n",
       "      <td>No</td>\n",
       "      <td>0</td>\n",
       "      <td>z_No</td>\n",
       "      <td>M</td>\n",
       "      <td>Bachelors</td>\n",
       "      <td>Manager</td>\n",
       "      <td>26</td>\n",
       "      <td>Private</td>\n",
       "      <td>21970</td>\n",
       "      <td>1</td>\n",
       "      <td>Van</td>\n",
       "      <td>yes</td>\n",
       "      <td>0</td>\n",
       "      <td>0</td>\n",
       "      <td>No</td>\n",
       "      <td>2</td>\n",
       "      <td>0</td>\n",
       "      <td>10.0</td>\n",
       "      <td>0</td>\n",
       "      <td>Highly Urban/ Urban</td>\n",
       "    </tr>\n",
       "    <tr>\n",
       "      <th>3</th>\n",
       "      <td>727598473</td>\n",
       "      <td>0</td>\n",
       "      <td>05MAR64</td>\n",
       "      <td>35.0</td>\n",
       "      <td>1</td>\n",
       "      <td>10.0</td>\n",
       "      <td>16039</td>\n",
       "      <td>No</td>\n",
       "      <td>124191</td>\n",
       "      <td>Yes</td>\n",
       "      <td>z_F</td>\n",
       "      <td>z_High School</td>\n",
       "      <td>Clerical</td>\n",
       "      <td>5</td>\n",
       "      <td>Private</td>\n",
       "      <td>4010</td>\n",
       "      <td>4</td>\n",
       "      <td>z_SUV</td>\n",
       "      <td>no</td>\n",
       "      <td>38690</td>\n",
       "      <td>2</td>\n",
       "      <td>No</td>\n",
       "      <td>3</td>\n",
       "      <td>0</td>\n",
       "      <td>10.0</td>\n",
       "      <td>0</td>\n",
       "      <td>Highly Urban/ Urban</td>\n",
       "    </tr>\n",
       "    <tr>\n",
       "      <th>4</th>\n",
       "      <td>450221861</td>\n",
       "      <td>0</td>\n",
       "      <td>05JUN48</td>\n",
       "      <td>51.0</td>\n",
       "      <td>0</td>\n",
       "      <td>14.0</td>\n",
       "      <td>&lt;NA&gt;</td>\n",
       "      <td>No</td>\n",
       "      <td>306251</td>\n",
       "      <td>Yes</td>\n",
       "      <td>M</td>\n",
       "      <td>&lt;High School</td>\n",
       "      <td>z_Blue Collar</td>\n",
       "      <td>32</td>\n",
       "      <td>Private</td>\n",
       "      <td>15440</td>\n",
       "      <td>7</td>\n",
       "      <td>Minivan</td>\n",
       "      <td>yes</td>\n",
       "      <td>0</td>\n",
       "      <td>0</td>\n",
       "      <td>No</td>\n",
       "      <td>0</td>\n",
       "      <td>0</td>\n",
       "      <td>6.0</td>\n",
       "      <td>0</td>\n",
       "      <td>Highly Urban/ Urban</td>\n",
       "    </tr>\n",
       "  </tbody>\n",
       "</table>\n",
       "</div>"
      ],
      "text/plain": [
       "          ID  num_young_drivers date_of_birth   age  num_of_children  \\\n",
       "0   63581743                  0       16MAR39  60.0                0   \n",
       "1  132761049                  0       21JAN56  43.0                0   \n",
       "2  921317019                  0       18NOV51  48.0                0   \n",
       "3  727598473                  0       05MAR64  35.0                1   \n",
       "4  450221861                  0       05JUN48  51.0                0   \n",
       "\n",
       "   years_job_held_for  income single_parent  value_of_home married gender  \\\n",
       "0                11.0   67349            No              0    z_No      M   \n",
       "1                11.0   91449            No         257252    z_No      M   \n",
       "2                11.0   52881            No              0    z_No      M   \n",
       "3                10.0   16039            No         124191     Yes    z_F   \n",
       "4                14.0    <NA>            No         306251     Yes      M   \n",
       "\n",
       "  highest_education     occupation  commute_dist type_of_use  vehicle_value  \\\n",
       "0               PhD   Professional            14     Private          14230   \n",
       "1     z_High School  z_Blue Collar            22  Commercial          14940   \n",
       "2         Bachelors        Manager            26     Private          21970   \n",
       "3     z_High School       Clerical             5     Private           4010   \n",
       "4      <High School  z_Blue Collar            32     Private          15440   \n",
       "\n",
       "   policy_tenure vehicle_type red_vehicle  5_year_total_claims_value  \\\n",
       "0             11      Minivan         yes                       4461   \n",
       "1              1      Minivan         yes                          0   \n",
       "2              1          Van         yes                          0   \n",
       "3              4        z_SUV          no                      38690   \n",
       "4              7      Minivan         yes                          0   \n",
       "\n",
       "   5_year_num_of_claims licence_revoked  license_points  new_claim_value  \\\n",
       "0                     2              No               3                0   \n",
       "1                     0              No               0                0   \n",
       "2                     0              No               2                0   \n",
       "3                     2              No               3                0   \n",
       "4                     0              No               0                0   \n",
       "\n",
       "   vehicle_age  is_claim         address_type  \n",
       "0         18.0         0  Highly Urban/ Urban  \n",
       "1          1.0         0  Highly Urban/ Urban  \n",
       "2         10.0         0  Highly Urban/ Urban  \n",
       "3         10.0         0  Highly Urban/ Urban  \n",
       "4          6.0         0  Highly Urban/ Urban  "
      ]
     },
     "execution_count": 10,
     "metadata": {},
     "output_type": "execute_result"
    }
   ],
   "source": [
    "data_df.head()"
   ]
  },
  {
   "cell_type": "code",
   "execution_count": 11,
   "id": "5de24af7",
   "metadata": {},
   "outputs": [],
   "source": [
    "# Define cols that have prefix\n",
    "z_prefix_cols = ['married', 'gender', 'highest_education', 'occupation', 'vehicle_type', 'address_type']\n",
    "\n",
    "# Create a function to remove 'z_' prefix\n",
    "def remove_prefix(data, cols):\n",
    "    for col in cols:\n",
    "        data[col] = data[col].replace('[z_]', '', regex = True)\n",
    "    return data\n",
    "\n",
    "data_df = remove_prefix(data_df, z_prefix_cols)\n",
    "\n",
    "\n"
   ]
  },
  {
   "cell_type": "code",
   "execution_count": 12,
   "id": "367c9013",
   "metadata": {},
   "outputs": [
    {
     "data": {
      "text/html": [
       "<div>\n",
       "<style scoped>\n",
       "    .dataframe tbody tr th:only-of-type {\n",
       "        vertical-align: middle;\n",
       "    }\n",
       "\n",
       "    .dataframe tbody tr th {\n",
       "        vertical-align: top;\n",
       "    }\n",
       "\n",
       "    .dataframe thead th {\n",
       "        text-align: right;\n",
       "    }\n",
       "</style>\n",
       "<table border=\"1\" class=\"dataframe\">\n",
       "  <thead>\n",
       "    <tr style=\"text-align: right;\">\n",
       "      <th></th>\n",
       "      <th>ID</th>\n",
       "      <th>num_young_drivers</th>\n",
       "      <th>date_of_birth</th>\n",
       "      <th>age</th>\n",
       "      <th>num_of_children</th>\n",
       "      <th>years_job_held_for</th>\n",
       "      <th>income</th>\n",
       "      <th>single_parent</th>\n",
       "      <th>value_of_home</th>\n",
       "      <th>married</th>\n",
       "      <th>gender</th>\n",
       "      <th>highest_education</th>\n",
       "      <th>occupation</th>\n",
       "      <th>commute_dist</th>\n",
       "      <th>type_of_use</th>\n",
       "      <th>vehicle_value</th>\n",
       "      <th>policy_tenure</th>\n",
       "      <th>vehicle_type</th>\n",
       "      <th>red_vehicle</th>\n",
       "      <th>5_year_total_claims_value</th>\n",
       "      <th>5_year_num_of_claims</th>\n",
       "      <th>licence_revoked</th>\n",
       "      <th>license_points</th>\n",
       "      <th>new_claim_value</th>\n",
       "      <th>vehicle_age</th>\n",
       "      <th>is_claim</th>\n",
       "      <th>address_type</th>\n",
       "    </tr>\n",
       "  </thead>\n",
       "  <tbody>\n",
       "    <tr>\n",
       "      <th>0</th>\n",
       "      <td>63581743</td>\n",
       "      <td>0</td>\n",
       "      <td>16MAR39</td>\n",
       "      <td>60.0</td>\n",
       "      <td>0</td>\n",
       "      <td>11.0</td>\n",
       "      <td>67349</td>\n",
       "      <td>No</td>\n",
       "      <td>0</td>\n",
       "      <td>No</td>\n",
       "      <td>M</td>\n",
       "      <td>PhD</td>\n",
       "      <td>Professional</td>\n",
       "      <td>14</td>\n",
       "      <td>Private</td>\n",
       "      <td>14230</td>\n",
       "      <td>11</td>\n",
       "      <td>Minivan</td>\n",
       "      <td>yes</td>\n",
       "      <td>4461</td>\n",
       "      <td>2</td>\n",
       "      <td>No</td>\n",
       "      <td>3</td>\n",
       "      <td>0</td>\n",
       "      <td>18.0</td>\n",
       "      <td>0</td>\n",
       "      <td>Highly Urban/ Urban</td>\n",
       "    </tr>\n",
       "    <tr>\n",
       "      <th>1</th>\n",
       "      <td>132761049</td>\n",
       "      <td>0</td>\n",
       "      <td>21JAN56</td>\n",
       "      <td>43.0</td>\n",
       "      <td>0</td>\n",
       "      <td>11.0</td>\n",
       "      <td>91449</td>\n",
       "      <td>No</td>\n",
       "      <td>257252</td>\n",
       "      <td>No</td>\n",
       "      <td>M</td>\n",
       "      <td>High School</td>\n",
       "      <td>Blue Collar</td>\n",
       "      <td>22</td>\n",
       "      <td>Commercial</td>\n",
       "      <td>14940</td>\n",
       "      <td>1</td>\n",
       "      <td>Minivan</td>\n",
       "      <td>yes</td>\n",
       "      <td>0</td>\n",
       "      <td>0</td>\n",
       "      <td>No</td>\n",
       "      <td>0</td>\n",
       "      <td>0</td>\n",
       "      <td>1.0</td>\n",
       "      <td>0</td>\n",
       "      <td>Highly Urban/ Urban</td>\n",
       "    </tr>\n",
       "    <tr>\n",
       "      <th>2</th>\n",
       "      <td>921317019</td>\n",
       "      <td>0</td>\n",
       "      <td>18NOV51</td>\n",
       "      <td>48.0</td>\n",
       "      <td>0</td>\n",
       "      <td>11.0</td>\n",
       "      <td>52881</td>\n",
       "      <td>No</td>\n",
       "      <td>0</td>\n",
       "      <td>No</td>\n",
       "      <td>M</td>\n",
       "      <td>Bachelors</td>\n",
       "      <td>Manager</td>\n",
       "      <td>26</td>\n",
       "      <td>Private</td>\n",
       "      <td>21970</td>\n",
       "      <td>1</td>\n",
       "      <td>Van</td>\n",
       "      <td>yes</td>\n",
       "      <td>0</td>\n",
       "      <td>0</td>\n",
       "      <td>No</td>\n",
       "      <td>2</td>\n",
       "      <td>0</td>\n",
       "      <td>10.0</td>\n",
       "      <td>0</td>\n",
       "      <td>Highly Urban/ Urban</td>\n",
       "    </tr>\n",
       "    <tr>\n",
       "      <th>3</th>\n",
       "      <td>727598473</td>\n",
       "      <td>0</td>\n",
       "      <td>05MAR64</td>\n",
       "      <td>35.0</td>\n",
       "      <td>1</td>\n",
       "      <td>10.0</td>\n",
       "      <td>16039</td>\n",
       "      <td>No</td>\n",
       "      <td>124191</td>\n",
       "      <td>Yes</td>\n",
       "      <td>F</td>\n",
       "      <td>High School</td>\n",
       "      <td>Clerical</td>\n",
       "      <td>5</td>\n",
       "      <td>Private</td>\n",
       "      <td>4010</td>\n",
       "      <td>4</td>\n",
       "      <td>SUV</td>\n",
       "      <td>no</td>\n",
       "      <td>38690</td>\n",
       "      <td>2</td>\n",
       "      <td>No</td>\n",
       "      <td>3</td>\n",
       "      <td>0</td>\n",
       "      <td>10.0</td>\n",
       "      <td>0</td>\n",
       "      <td>Highly Urban/ Urban</td>\n",
       "    </tr>\n",
       "    <tr>\n",
       "      <th>4</th>\n",
       "      <td>450221861</td>\n",
       "      <td>0</td>\n",
       "      <td>05JUN48</td>\n",
       "      <td>51.0</td>\n",
       "      <td>0</td>\n",
       "      <td>14.0</td>\n",
       "      <td>&lt;NA&gt;</td>\n",
       "      <td>No</td>\n",
       "      <td>306251</td>\n",
       "      <td>Yes</td>\n",
       "      <td>M</td>\n",
       "      <td>&lt;High School</td>\n",
       "      <td>Blue Collar</td>\n",
       "      <td>32</td>\n",
       "      <td>Private</td>\n",
       "      <td>15440</td>\n",
       "      <td>7</td>\n",
       "      <td>Minivan</td>\n",
       "      <td>yes</td>\n",
       "      <td>0</td>\n",
       "      <td>0</td>\n",
       "      <td>No</td>\n",
       "      <td>0</td>\n",
       "      <td>0</td>\n",
       "      <td>6.0</td>\n",
       "      <td>0</td>\n",
       "      <td>Highly Urban/ Urban</td>\n",
       "    </tr>\n",
       "  </tbody>\n",
       "</table>\n",
       "</div>"
      ],
      "text/plain": [
       "          ID  num_young_drivers date_of_birth   age  num_of_children  \\\n",
       "0   63581743                  0       16MAR39  60.0                0   \n",
       "1  132761049                  0       21JAN56  43.0                0   \n",
       "2  921317019                  0       18NOV51  48.0                0   \n",
       "3  727598473                  0       05MAR64  35.0                1   \n",
       "4  450221861                  0       05JUN48  51.0                0   \n",
       "\n",
       "   years_job_held_for  income single_parent  value_of_home married gender  \\\n",
       "0                11.0   67349            No              0      No      M   \n",
       "1                11.0   91449            No         257252      No      M   \n",
       "2                11.0   52881            No              0      No      M   \n",
       "3                10.0   16039            No         124191     Yes      F   \n",
       "4                14.0    <NA>            No         306251     Yes      M   \n",
       "\n",
       "  highest_education    occupation  commute_dist type_of_use  vehicle_value  \\\n",
       "0               PhD  Professional            14     Private          14230   \n",
       "1       High School   Blue Collar            22  Commercial          14940   \n",
       "2         Bachelors       Manager            26     Private          21970   \n",
       "3       High School      Clerical             5     Private           4010   \n",
       "4      <High School   Blue Collar            32     Private          15440   \n",
       "\n",
       "   policy_tenure vehicle_type red_vehicle  5_year_total_claims_value  \\\n",
       "0             11      Minivan         yes                       4461   \n",
       "1              1      Minivan         yes                          0   \n",
       "2              1          Van         yes                          0   \n",
       "3              4          SUV          no                      38690   \n",
       "4              7      Minivan         yes                          0   \n",
       "\n",
       "   5_year_num_of_claims licence_revoked  license_points  new_claim_value  \\\n",
       "0                     2              No               3                0   \n",
       "1                     0              No               0                0   \n",
       "2                     0              No               2                0   \n",
       "3                     2              No               3                0   \n",
       "4                     0              No               0                0   \n",
       "\n",
       "   vehicle_age  is_claim         address_type  \n",
       "0         18.0         0  Highly Urban/ Urban  \n",
       "1          1.0         0  Highly Urban/ Urban  \n",
       "2         10.0         0  Highly Urban/ Urban  \n",
       "3         10.0         0  Highly Urban/ Urban  \n",
       "4          6.0         0  Highly Urban/ Urban  "
      ]
     },
     "execution_count": 12,
     "metadata": {},
     "output_type": "execute_result"
    }
   ],
   "source": [
    "data_df.head()"
   ]
  },
  {
   "cell_type": "code",
   "execution_count": 13,
   "id": "bd2536ef",
   "metadata": {},
   "outputs": [],
   "source": [
    "# Drop features we don't need\n",
    "data_df.drop(['ID', 'date_of_birth'], axis = 1, inplace = True)"
   ]
  },
  {
   "cell_type": "code",
   "execution_count": 14,
   "id": "80560d06",
   "metadata": {},
   "outputs": [
    {
     "data": {
      "text/html": [
       "<div>\n",
       "<style scoped>\n",
       "    .dataframe tbody tr th:only-of-type {\n",
       "        vertical-align: middle;\n",
       "    }\n",
       "\n",
       "    .dataframe tbody tr th {\n",
       "        vertical-align: top;\n",
       "    }\n",
       "\n",
       "    .dataframe thead th {\n",
       "        text-align: right;\n",
       "    }\n",
       "</style>\n",
       "<table border=\"1\" class=\"dataframe\">\n",
       "  <thead>\n",
       "    <tr style=\"text-align: right;\">\n",
       "      <th></th>\n",
       "      <th>num_young_drivers</th>\n",
       "      <th>age</th>\n",
       "      <th>num_of_children</th>\n",
       "      <th>years_job_held_for</th>\n",
       "      <th>income</th>\n",
       "      <th>single_parent</th>\n",
       "      <th>value_of_home</th>\n",
       "      <th>married</th>\n",
       "      <th>gender</th>\n",
       "      <th>highest_education</th>\n",
       "      <th>occupation</th>\n",
       "      <th>commute_dist</th>\n",
       "      <th>type_of_use</th>\n",
       "      <th>vehicle_value</th>\n",
       "      <th>policy_tenure</th>\n",
       "      <th>vehicle_type</th>\n",
       "      <th>red_vehicle</th>\n",
       "      <th>5_year_total_claims_value</th>\n",
       "      <th>5_year_num_of_claims</th>\n",
       "      <th>licence_revoked</th>\n",
       "      <th>license_points</th>\n",
       "      <th>new_claim_value</th>\n",
       "      <th>vehicle_age</th>\n",
       "      <th>is_claim</th>\n",
       "      <th>address_type</th>\n",
       "    </tr>\n",
       "  </thead>\n",
       "  <tbody>\n",
       "    <tr>\n",
       "      <th>0</th>\n",
       "      <td>0</td>\n",
       "      <td>60.0</td>\n",
       "      <td>0</td>\n",
       "      <td>11.0</td>\n",
       "      <td>67349</td>\n",
       "      <td>No</td>\n",
       "      <td>0</td>\n",
       "      <td>No</td>\n",
       "      <td>M</td>\n",
       "      <td>PhD</td>\n",
       "      <td>Professional</td>\n",
       "      <td>14</td>\n",
       "      <td>Private</td>\n",
       "      <td>14230</td>\n",
       "      <td>11</td>\n",
       "      <td>Minivan</td>\n",
       "      <td>yes</td>\n",
       "      <td>4461</td>\n",
       "      <td>2</td>\n",
       "      <td>No</td>\n",
       "      <td>3</td>\n",
       "      <td>0</td>\n",
       "      <td>18.0</td>\n",
       "      <td>0</td>\n",
       "      <td>Highly Urban/ Urban</td>\n",
       "    </tr>\n",
       "    <tr>\n",
       "      <th>1</th>\n",
       "      <td>0</td>\n",
       "      <td>43.0</td>\n",
       "      <td>0</td>\n",
       "      <td>11.0</td>\n",
       "      <td>91449</td>\n",
       "      <td>No</td>\n",
       "      <td>257252</td>\n",
       "      <td>No</td>\n",
       "      <td>M</td>\n",
       "      <td>High School</td>\n",
       "      <td>Blue Collar</td>\n",
       "      <td>22</td>\n",
       "      <td>Commercial</td>\n",
       "      <td>14940</td>\n",
       "      <td>1</td>\n",
       "      <td>Minivan</td>\n",
       "      <td>yes</td>\n",
       "      <td>0</td>\n",
       "      <td>0</td>\n",
       "      <td>No</td>\n",
       "      <td>0</td>\n",
       "      <td>0</td>\n",
       "      <td>1.0</td>\n",
       "      <td>0</td>\n",
       "      <td>Highly Urban/ Urban</td>\n",
       "    </tr>\n",
       "    <tr>\n",
       "      <th>2</th>\n",
       "      <td>0</td>\n",
       "      <td>48.0</td>\n",
       "      <td>0</td>\n",
       "      <td>11.0</td>\n",
       "      <td>52881</td>\n",
       "      <td>No</td>\n",
       "      <td>0</td>\n",
       "      <td>No</td>\n",
       "      <td>M</td>\n",
       "      <td>Bachelors</td>\n",
       "      <td>Manager</td>\n",
       "      <td>26</td>\n",
       "      <td>Private</td>\n",
       "      <td>21970</td>\n",
       "      <td>1</td>\n",
       "      <td>Van</td>\n",
       "      <td>yes</td>\n",
       "      <td>0</td>\n",
       "      <td>0</td>\n",
       "      <td>No</td>\n",
       "      <td>2</td>\n",
       "      <td>0</td>\n",
       "      <td>10.0</td>\n",
       "      <td>0</td>\n",
       "      <td>Highly Urban/ Urban</td>\n",
       "    </tr>\n",
       "    <tr>\n",
       "      <th>3</th>\n",
       "      <td>0</td>\n",
       "      <td>35.0</td>\n",
       "      <td>1</td>\n",
       "      <td>10.0</td>\n",
       "      <td>16039</td>\n",
       "      <td>No</td>\n",
       "      <td>124191</td>\n",
       "      <td>Yes</td>\n",
       "      <td>F</td>\n",
       "      <td>High School</td>\n",
       "      <td>Clerical</td>\n",
       "      <td>5</td>\n",
       "      <td>Private</td>\n",
       "      <td>4010</td>\n",
       "      <td>4</td>\n",
       "      <td>SUV</td>\n",
       "      <td>no</td>\n",
       "      <td>38690</td>\n",
       "      <td>2</td>\n",
       "      <td>No</td>\n",
       "      <td>3</td>\n",
       "      <td>0</td>\n",
       "      <td>10.0</td>\n",
       "      <td>0</td>\n",
       "      <td>Highly Urban/ Urban</td>\n",
       "    </tr>\n",
       "    <tr>\n",
       "      <th>4</th>\n",
       "      <td>0</td>\n",
       "      <td>51.0</td>\n",
       "      <td>0</td>\n",
       "      <td>14.0</td>\n",
       "      <td>&lt;NA&gt;</td>\n",
       "      <td>No</td>\n",
       "      <td>306251</td>\n",
       "      <td>Yes</td>\n",
       "      <td>M</td>\n",
       "      <td>&lt;High School</td>\n",
       "      <td>Blue Collar</td>\n",
       "      <td>32</td>\n",
       "      <td>Private</td>\n",
       "      <td>15440</td>\n",
       "      <td>7</td>\n",
       "      <td>Minivan</td>\n",
       "      <td>yes</td>\n",
       "      <td>0</td>\n",
       "      <td>0</td>\n",
       "      <td>No</td>\n",
       "      <td>0</td>\n",
       "      <td>0</td>\n",
       "      <td>6.0</td>\n",
       "      <td>0</td>\n",
       "      <td>Highly Urban/ Urban</td>\n",
       "    </tr>\n",
       "  </tbody>\n",
       "</table>\n",
       "</div>"
      ],
      "text/plain": [
       "   num_young_drivers   age  num_of_children  years_job_held_for  income  \\\n",
       "0                  0  60.0                0                11.0   67349   \n",
       "1                  0  43.0                0                11.0   91449   \n",
       "2                  0  48.0                0                11.0   52881   \n",
       "3                  0  35.0                1                10.0   16039   \n",
       "4                  0  51.0                0                14.0    <NA>   \n",
       "\n",
       "  single_parent  value_of_home married gender highest_education    occupation  \\\n",
       "0            No              0      No      M               PhD  Professional   \n",
       "1            No         257252      No      M       High School   Blue Collar   \n",
       "2            No              0      No      M         Bachelors       Manager   \n",
       "3            No         124191     Yes      F       High School      Clerical   \n",
       "4            No         306251     Yes      M      <High School   Blue Collar   \n",
       "\n",
       "   commute_dist type_of_use  vehicle_value  policy_tenure vehicle_type  \\\n",
       "0            14     Private          14230             11      Minivan   \n",
       "1            22  Commercial          14940              1      Minivan   \n",
       "2            26     Private          21970              1          Van   \n",
       "3             5     Private           4010              4          SUV   \n",
       "4            32     Private          15440              7      Minivan   \n",
       "\n",
       "  red_vehicle  5_year_total_claims_value  5_year_num_of_claims  \\\n",
       "0         yes                       4461                     2   \n",
       "1         yes                          0                     0   \n",
       "2         yes                          0                     0   \n",
       "3          no                      38690                     2   \n",
       "4         yes                          0                     0   \n",
       "\n",
       "  licence_revoked  license_points  new_claim_value  vehicle_age  is_claim  \\\n",
       "0              No               3                0         18.0         0   \n",
       "1              No               0                0          1.0         0   \n",
       "2              No               2                0         10.0         0   \n",
       "3              No               3                0         10.0         0   \n",
       "4              No               0                0          6.0         0   \n",
       "\n",
       "          address_type  \n",
       "0  Highly Urban/ Urban  \n",
       "1  Highly Urban/ Urban  \n",
       "2  Highly Urban/ Urban  \n",
       "3  Highly Urban/ Urban  \n",
       "4  Highly Urban/ Urban  "
      ]
     },
     "execution_count": 14,
     "metadata": {},
     "output_type": "execute_result"
    }
   ],
   "source": [
    "data_df.head()"
   ]
  },
  {
   "cell_type": "markdown",
   "id": "a9307fef",
   "metadata": {},
   "source": [
    "when creating our sets, we want to make sure there's no bias in the negative or positive classes. So that the sets are actually reprsentative of the customer data. To be clear, when I say the positive and negative classes I'm referring to the Target variable which in this project for the classification is the \"is_claim\" feature. The positive class is that the customer has made a claim and the negative class that they haven't made a claim. Since we have a feature that describes a claim value of customers that have claimed we can use this to do something called stratified sampling. This will avoid bias in the test set.  \n",
    "We can create bins based on non-zero values for the claim value as thsi implies indirectly that the 'is_claim' feature is true, but we can double check this to make sure our assumptions is correct."
   ]
  },
  {
   "cell_type": "markdown",
   "id": "fe769b2d",
   "metadata": {},
   "source": [
    "1.3 Create Train/Test Split"
   ]
  },
  {
   "cell_type": "code",
   "execution_count": 15,
   "id": "fabd06e4",
   "metadata": {},
   "outputs": [
    {
     "data": {
      "text/html": [
       "<div>\n",
       "<style scoped>\n",
       "    .dataframe tbody tr th:only-of-type {\n",
       "        vertical-align: middle;\n",
       "    }\n",
       "\n",
       "    .dataframe tbody tr th {\n",
       "        vertical-align: top;\n",
       "    }\n",
       "\n",
       "    .dataframe thead th {\n",
       "        text-align: right;\n",
       "    }\n",
       "</style>\n",
       "<table border=\"1\" class=\"dataframe\">\n",
       "  <thead>\n",
       "    <tr style=\"text-align: right;\">\n",
       "      <th></th>\n",
       "      <th>num_young_drivers</th>\n",
       "      <th>age</th>\n",
       "      <th>num_of_children</th>\n",
       "      <th>years_job_held_for</th>\n",
       "      <th>income</th>\n",
       "      <th>single_parent</th>\n",
       "      <th>value_of_home</th>\n",
       "      <th>married</th>\n",
       "      <th>gender</th>\n",
       "      <th>highest_education</th>\n",
       "      <th>occupation</th>\n",
       "      <th>commute_dist</th>\n",
       "      <th>type_of_use</th>\n",
       "      <th>vehicle_value</th>\n",
       "      <th>policy_tenure</th>\n",
       "      <th>vehicle_type</th>\n",
       "      <th>red_vehicle</th>\n",
       "      <th>5_year_total_claims_value</th>\n",
       "      <th>5_year_num_of_claims</th>\n",
       "      <th>licence_revoked</th>\n",
       "      <th>license_points</th>\n",
       "      <th>new_claim_value</th>\n",
       "      <th>vehicle_age</th>\n",
       "      <th>is_claim</th>\n",
       "      <th>address_type</th>\n",
       "    </tr>\n",
       "  </thead>\n",
       "  <tbody>\n",
       "  </tbody>\n",
       "</table>\n",
       "</div>"
      ],
      "text/plain": [
       "Empty DataFrame\n",
       "Columns: [num_young_drivers, age, num_of_children, years_job_held_for, income, single_parent, value_of_home, married, gender, highest_education, occupation, commute_dist, type_of_use, vehicle_value, policy_tenure, vehicle_type, red_vehicle, 5_year_total_claims_value, 5_year_num_of_claims, licence_revoked, license_points, new_claim_value, vehicle_age, is_claim, address_type]\n",
       "Index: []"
      ]
     },
     "execution_count": 15,
     "metadata": {},
     "output_type": "execute_result"
    }
   ],
   "source": [
    "# Check there are no non-zero values for 'new_claim_value' where 'is_claim' = 1\n",
    "mask = (data_df['new_claim_value'] > 0 ) & (data_df['is_claim'] ==0)\n",
    "data_df[mask]"
   ]
  },
  {
   "cell_type": "code",
   "execution_count": 16,
   "id": "477e23db",
   "metadata": {},
   "outputs": [
    {
     "data": {
      "application/vnd.plotly.v1+json": {
       "config": {
        "plotlyServerURL": "https://plot.ly"
       },
       "data": [
        {
         "bingroup": "x",
         "hovertemplate": "new_claim_value=%{x}<br>count=%{y}<extra></extra>",
         "legendgroup": "",
         "marker": {
          "color": "#636efa",
          "pattern": {
           "shape": ""
          }
         },
         "name": "",
         "nbinsx": 10,
         "orientation": "v",
         "showlegend": false,
         "type": "histogram",
         "x": {
          "bdata": "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",
          "dtype": "i4"
         },
         "xaxis": "x",
         "yaxis": "y"
        }
       ],
       "layout": {
        "barmode": "relative",
        "legend": {
         "tracegroupgap": 0
        },
        "margin": {
         "t": 60
        },
        "template": {
         "data": {
          "bar": [
           {
            "error_x": {
             "color": "#2a3f5f"
            },
            "error_y": {
             "color": "#2a3f5f"
            },
            "marker": {
             "line": {
              "color": "#E5ECF6",
              "width": 0.5
             },
             "pattern": {
              "fillmode": "overlay",
              "size": 10,
              "solidity": 0.2
             }
            },
            "type": "bar"
           }
          ],
          "barpolar": [
           {
            "marker": {
             "line": {
              "color": "#E5ECF6",
              "width": 0.5
             },
             "pattern": {
              "fillmode": "overlay",
              "size": 10,
              "solidity": 0.2
             }
            },
            "type": "barpolar"
           }
          ],
          "carpet": [
           {
            "aaxis": {
             "endlinecolor": "#2a3f5f",
             "gridcolor": "white",
             "linecolor": "white",
             "minorgridcolor": "white",
             "startlinecolor": "#2a3f5f"
            },
            "baxis": {
             "endlinecolor": "#2a3f5f",
             "gridcolor": "white",
             "linecolor": "white",
             "minorgridcolor": "white",
             "startlinecolor": "#2a3f5f"
            },
            "type": "carpet"
           }
          ],
          "choropleth": [
           {
            "colorbar": {
             "outlinewidth": 0,
             "ticks": ""
            },
            "type": "choropleth"
           }
          ],
          "contour": [
           {
            "colorbar": {
             "outlinewidth": 0,
             "ticks": ""
            },
            "colorscale": [
             [
              0,
              "#0d0887"
             ],
             [
              0.1111111111111111,
              "#46039f"
             ],
             [
              0.2222222222222222,
              "#7201a8"
             ],
             [
              0.3333333333333333,
              "#9c179e"
             ],
             [
              0.4444444444444444,
              "#bd3786"
             ],
             [
              0.5555555555555556,
              "#d8576b"
             ],
             [
              0.6666666666666666,
              "#ed7953"
             ],
             [
              0.7777777777777778,
              "#fb9f3a"
             ],
             [
              0.8888888888888888,
              "#fdca26"
             ],
             [
              1,
              "#f0f921"
             ]
            ],
            "type": "contour"
           }
          ],
          "contourcarpet": [
           {
            "colorbar": {
             "outlinewidth": 0,
             "ticks": ""
            },
            "type": "contourcarpet"
           }
          ],
          "heatmap": [
           {
            "colorbar": {
             "outlinewidth": 0,
             "ticks": ""
            },
            "colorscale": [
             [
              0,
              "#0d0887"
             ],
             [
              0.1111111111111111,
              "#46039f"
             ],
             [
              0.2222222222222222,
              "#7201a8"
             ],
             [
              0.3333333333333333,
              "#9c179e"
             ],
             [
              0.4444444444444444,
              "#bd3786"
             ],
             [
              0.5555555555555556,
              "#d8576b"
             ],
             [
              0.6666666666666666,
              "#ed7953"
             ],
             [
              0.7777777777777778,
              "#fb9f3a"
             ],
             [
              0.8888888888888888,
              "#fdca26"
             ],
             [
              1,
              "#f0f921"
             ]
            ],
            "type": "heatmap"
           }
          ],
          "histogram": [
           {
            "marker": {
             "pattern": {
              "fillmode": "overlay",
              "size": 10,
              "solidity": 0.2
             }
            },
            "type": "histogram"
           }
          ],
          "histogram2d": [
           {
            "colorbar": {
             "outlinewidth": 0,
             "ticks": ""
            },
            "colorscale": [
             [
              0,
              "#0d0887"
             ],
             [
              0.1111111111111111,
              "#46039f"
             ],
             [
              0.2222222222222222,
              "#7201a8"
             ],
             [
              0.3333333333333333,
              "#9c179e"
             ],
             [
              0.4444444444444444,
              "#bd3786"
             ],
             [
              0.5555555555555556,
              "#d8576b"
             ],
             [
              0.6666666666666666,
              "#ed7953"
             ],
             [
              0.7777777777777778,
              "#fb9f3a"
             ],
             [
              0.8888888888888888,
              "#fdca26"
             ],
             [
              1,
              "#f0f921"
             ]
            ],
            "type": "histogram2d"
           }
          ],
          "histogram2dcontour": [
           {
            "colorbar": {
             "outlinewidth": 0,
             "ticks": ""
            },
            "colorscale": [
             [
              0,
              "#0d0887"
             ],
             [
              0.1111111111111111,
              "#46039f"
             ],
             [
              0.2222222222222222,
              "#7201a8"
             ],
             [
              0.3333333333333333,
              "#9c179e"
             ],
             [
              0.4444444444444444,
              "#bd3786"
             ],
             [
              0.5555555555555556,
              "#d8576b"
             ],
             [
              0.6666666666666666,
              "#ed7953"
             ],
             [
              0.7777777777777778,
              "#fb9f3a"
             ],
             [
              0.8888888888888888,
              "#fdca26"
             ],
             [
              1,
              "#f0f921"
             ]
            ],
            "type": "histogram2dcontour"
           }
          ],
          "mesh3d": [
           {
            "colorbar": {
             "outlinewidth": 0,
             "ticks": ""
            },
            "type": "mesh3d"
           }
          ],
          "parcoords": [
           {
            "line": {
             "colorbar": {
              "outlinewidth": 0,
              "ticks": ""
             }
            },
            "type": "parcoords"
           }
          ],
          "pie": [
           {
            "automargin": true,
            "type": "pie"
           }
          ],
          "scatter": [
           {
            "fillpattern": {
             "fillmode": "overlay",
             "size": 10,
             "solidity": 0.2
            },
            "type": "scatter"
           }
          ],
          "scatter3d": [
           {
            "line": {
             "colorbar": {
              "outlinewidth": 0,
              "ticks": ""
             }
            },
            "marker": {
             "colorbar": {
              "outlinewidth": 0,
              "ticks": ""
             }
            },
            "type": "scatter3d"
           }
          ],
          "scattercarpet": [
           {
            "marker": {
             "colorbar": {
              "outlinewidth": 0,
              "ticks": ""
             }
            },
            "type": "scattercarpet"
           }
          ],
          "scattergeo": [
           {
            "marker": {
             "colorbar": {
              "outlinewidth": 0,
              "ticks": ""
             }
            },
            "type": "scattergeo"
           }
          ],
          "scattergl": [
           {
            "marker": {
             "colorbar": {
              "outlinewidth": 0,
              "ticks": ""
             }
            },
            "type": "scattergl"
           }
          ],
          "scattermap": [
           {
            "marker": {
             "colorbar": {
              "outlinewidth": 0,
              "ticks": ""
             }
            },
            "type": "scattermap"
           }
          ],
          "scattermapbox": [
           {
            "marker": {
             "colorbar": {
              "outlinewidth": 0,
              "ticks": ""
             }
            },
            "type": "scattermapbox"
           }
          ],
          "scatterpolar": [
           {
            "marker": {
             "colorbar": {
              "outlinewidth": 0,
              "ticks": ""
             }
            },
            "type": "scatterpolar"
           }
          ],
          "scatterpolargl": [
           {
            "marker": {
             "colorbar": {
              "outlinewidth": 0,
              "ticks": ""
             }
            },
            "type": "scatterpolargl"
           }
          ],
          "scatterternary": [
           {
            "marker": {
             "colorbar": {
              "outlinewidth": 0,
              "ticks": ""
             }
            },
            "type": "scatterternary"
           }
          ],
          "surface": [
           {
            "colorbar": {
             "outlinewidth": 0,
             "ticks": ""
            },
            "colorscale": [
             [
              0,
              "#0d0887"
             ],
             [
              0.1111111111111111,
              "#46039f"
             ],
             [
              0.2222222222222222,
              "#7201a8"
             ],
             [
              0.3333333333333333,
              "#9c179e"
             ],
             [
              0.4444444444444444,
              "#bd3786"
             ],
             [
              0.5555555555555556,
              "#d8576b"
             ],
             [
              0.6666666666666666,
              "#ed7953"
             ],
             [
              0.7777777777777778,
              "#fb9f3a"
             ],
             [
              0.8888888888888888,
              "#fdca26"
             ],
             [
              1,
              "#f0f921"
             ]
            ],
            "type": "surface"
           }
          ],
          "table": [
           {
            "cells": {
             "fill": {
              "color": "#EBF0F8"
             },
             "line": {
              "color": "white"
             }
            },
            "header": {
             "fill": {
              "color": "#C8D4E3"
             },
             "line": {
              "color": "white"
             }
            },
            "type": "table"
           }
          ]
         },
         "layout": {
          "annotationdefaults": {
           "arrowcolor": "#2a3f5f",
           "arrowhead": 0,
           "arrowwidth": 1
          },
          "autotypenumbers": "strict",
          "coloraxis": {
           "colorbar": {
            "outlinewidth": 0,
            "ticks": ""
           }
          },
          "colorscale": {
           "diverging": [
            [
             0,
             "#8e0152"
            ],
            [
             0.1,
             "#c51b7d"
            ],
            [
             0.2,
             "#de77ae"
            ],
            [
             0.3,
             "#f1b6da"
            ],
            [
             0.4,
             "#fde0ef"
            ],
            [
             0.5,
             "#f7f7f7"
            ],
            [
             0.6,
             "#e6f5d0"
            ],
            [
             0.7,
             "#b8e186"
            ],
            [
             0.8,
             "#7fbc41"
            ],
            [
             0.9,
             "#4d9221"
            ],
            [
             1,
             "#276419"
            ]
           ],
           "sequential": [
            [
             0,
             "#0d0887"
            ],
            [
             0.1111111111111111,
             "#46039f"
            ],
            [
             0.2222222222222222,
             "#7201a8"
            ],
            [
             0.3333333333333333,
             "#9c179e"
            ],
            [
             0.4444444444444444,
             "#bd3786"
            ],
            [
             0.5555555555555556,
             "#d8576b"
            ],
            [
             0.6666666666666666,
             "#ed7953"
            ],
            [
             0.7777777777777778,
             "#fb9f3a"
            ],
            [
             0.8888888888888888,
             "#fdca26"
            ],
            [
             1,
             "#f0f921"
            ]
           ],
           "sequentialminus": [
            [
             0,
             "#0d0887"
            ],
            [
             0.1111111111111111,
             "#46039f"
            ],
            [
             0.2222222222222222,
             "#7201a8"
            ],
            [
             0.3333333333333333,
             "#9c179e"
            ],
            [
             0.4444444444444444,
             "#bd3786"
            ],
            [
             0.5555555555555556,
             "#d8576b"
            ],
            [
             0.6666666666666666,
             "#ed7953"
            ],
            [
             0.7777777777777778,
             "#fb9f3a"
            ],
            [
             0.8888888888888888,
             "#fdca26"
            ],
            [
             1,
             "#f0f921"
            ]
           ]
          },
          "colorway": [
           "#636efa",
           "#EF553B",
           "#00cc96",
           "#ab63fa",
           "#FFA15A",
           "#19d3f3",
           "#FF6692",
           "#B6E880",
           "#FF97FF",
           "#FECB52"
          ],
          "font": {
           "color": "#2a3f5f"
          },
          "geo": {
           "bgcolor": "white",
           "lakecolor": "white",
           "landcolor": "#E5ECF6",
           "showlakes": true,
           "showland": true,
           "subunitcolor": "white"
          },
          "hoverlabel": {
           "align": "left"
          },
          "hovermode": "closest",
          "mapbox": {
           "style": "light"
          },
          "paper_bgcolor": "white",
          "plot_bgcolor": "#E5ECF6",
          "polar": {
           "angularaxis": {
            "gridcolor": "white",
            "linecolor": "white",
            "ticks": ""
           },
           "bgcolor": "#E5ECF6",
           "radialaxis": {
            "gridcolor": "white",
            "linecolor": "white",
            "ticks": ""
           }
          },
          "scene": {
           "xaxis": {
            "backgroundcolor": "#E5ECF6",
            "gridcolor": "white",
            "gridwidth": 2,
            "linecolor": "white",
            "showbackground": true,
            "ticks": "",
            "zerolinecolor": "white"
           },
           "yaxis": {
            "backgroundcolor": "#E5ECF6",
            "gridcolor": "white",
            "gridwidth": 2,
            "linecolor": "white",
            "showbackground": true,
            "ticks": "",
            "zerolinecolor": "white"
           },
           "zaxis": {
            "backgroundcolor": "#E5ECF6",
            "gridcolor": "white",
            "gridwidth": 2,
            "linecolor": "white",
            "showbackground": true,
            "ticks": "",
            "zerolinecolor": "white"
           }
          },
          "shapedefaults": {
           "line": {
            "color": "#2a3f5f"
           }
          },
          "ternary": {
           "aaxis": {
            "gridcolor": "white",
            "linecolor": "white",
            "ticks": ""
           },
           "baxis": {
            "gridcolor": "white",
            "linecolor": "white",
            "ticks": ""
           },
           "bgcolor": "#E5ECF6",
           "caxis": {
            "gridcolor": "white",
            "linecolor": "white",
            "ticks": ""
           }
          },
          "title": {
           "x": 0.05
          },
          "xaxis": {
           "automargin": true,
           "gridcolor": "white",
           "linecolor": "white",
           "ticks": "",
           "title": {
            "standoff": 15
           },
           "zerolinecolor": "white",
           "zerolinewidth": 2
          },
          "yaxis": {
           "automargin": true,
           "gridcolor": "white",
           "linecolor": "white",
           "ticks": "",
           "title": {
            "standoff": 15
           },
           "zerolinecolor": "white",
           "zerolinewidth": 2
          }
         }
        },
        "xaxis": {
         "anchor": "y",
         "domain": [
          0,
          1
         ],
         "title": {
          "text": "new_claim_value"
         }
        },
        "yaxis": {
         "anchor": "x",
         "domain": [
          0,
          1
         ],
         "title": {
          "text": "count"
         }
        }
       }
      }
     },
     "metadata": {},
     "output_type": "display_data"
    }
   ],
   "source": [
    "# Create histoplot for new Claim values\n",
    "\n",
    "fig = px.histogram(data_df, x=\"new_claim_value\", nbins = 10)\n",
    "fig.show()\n"
   ]
  },
  {
   "cell_type": "markdown",
   "id": "9be869ba",
   "metadata": {},
   "source": [
    "We can see that this shows a heavy  right skew. So when creating our strata bins it might be wise to create nonlinearly spaced bins to better capture the moer extreme values with few instances."
   ]
  },
  {
   "cell_type": "code",
   "execution_count": 17,
   "id": "80c21219",
   "metadata": {},
   "outputs": [],
   "source": [
    "# Define bins\n",
    "bins = list(range(0, 50001, 5000 )) + [np.inf]\n",
    "\n",
    "# Define bin labels\n",
    "labels = np.arange(1,12)\n",
    "\n",
    "# Apply bins using cut\n",
    "data_df['claim_value_cat'] = pd.cut(data_df['new_claim_value'], bins = bins, labels = labels, include_lowest= True)"
   ]
  },
  {
   "cell_type": "code",
   "execution_count": 18,
   "id": "d7d07396",
   "metadata": {},
   "outputs": [
    {
     "data": {
      "text/plain": [
       "[0, 5000, 10000, 15000, 20000, 25000, 30000, 35000, 40000, 45000, 50000, inf]"
      ]
     },
     "execution_count": 18,
     "metadata": {},
     "output_type": "execute_result"
    }
   ],
   "source": [
    "bins"
   ]
  },
  {
   "cell_type": "code",
   "execution_count": 19,
   "id": "1368db78",
   "metadata": {},
   "outputs": [
    {
     "data": {
      "text/plain": [
       "<Axes: ylabel='claim_value_cat'>"
      ]
     },
     "execution_count": 19,
     "metadata": {},
     "output_type": "execute_result"
    },
    {
     "data": {
      "image/png": "[encoded data removed]",
      "text/plain": [
       "<Figure size 640x480 with 1 Axes>"
      ]
     },
     "metadata": {},
     "output_type": "display_data"
    }
   ],
   "source": [
    "sns.barplot(data_df['claim_value_cat'])"
   ]
  },
  {
   "cell_type": "markdown",
   "id": "2fae728f",
   "metadata": {},
   "source": [
    "It's improtant t ohave a sufficient number of each stratum in the data set or else the estimate of each stratum's importance might be biased"
   ]
  },
  {
   "cell_type": "code",
   "execution_count": 20,
   "id": "a1e1d106",
   "metadata": {},
   "outputs": [
    {
     "data": {
      "text/html": [
       "<div>\n",
       "<style scoped>\n",
       "    .dataframe tbody tr th:only-of-type {\n",
       "        vertical-align: middle;\n",
       "    }\n",
       "\n",
       "    .dataframe tbody tr th {\n",
       "        vertical-align: top;\n",
       "    }\n",
       "\n",
       "    .dataframe thead th {\n",
       "        text-align: right;\n",
       "    }\n",
       "</style>\n",
       "<table border=\"1\" class=\"dataframe\">\n",
       "  <thead>\n",
       "    <tr style=\"text-align: right;\">\n",
       "      <th></th>\n",
       "      <th>num_young_drivers</th>\n",
       "      <th>age</th>\n",
       "      <th>num_of_children</th>\n",
       "      <th>years_job_held_for</th>\n",
       "      <th>income</th>\n",
       "      <th>single_parent</th>\n",
       "      <th>value_of_home</th>\n",
       "      <th>married</th>\n",
       "      <th>gender</th>\n",
       "      <th>highest_education</th>\n",
       "      <th>occupation</th>\n",
       "      <th>commute_dist</th>\n",
       "      <th>type_of_use</th>\n",
       "      <th>vehicle_value</th>\n",
       "      <th>policy_tenure</th>\n",
       "      <th>vehicle_type</th>\n",
       "      <th>red_vehicle</th>\n",
       "      <th>5_year_total_claims_value</th>\n",
       "      <th>5_year_num_of_claims</th>\n",
       "      <th>licence_revoked</th>\n",
       "      <th>license_points</th>\n",
       "      <th>new_claim_value</th>\n",
       "      <th>vehicle_age</th>\n",
       "      <th>is_claim</th>\n",
       "      <th>address_type</th>\n",
       "      <th>claim_value_cat</th>\n",
       "    </tr>\n",
       "  </thead>\n",
       "  <tbody>\n",
       "    <tr>\n",
       "      <th>0</th>\n",
       "      <td>0</td>\n",
       "      <td>60.0</td>\n",
       "      <td>0</td>\n",
       "      <td>11.0</td>\n",
       "      <td>67349</td>\n",
       "      <td>No</td>\n",
       "      <td>0</td>\n",
       "      <td>No</td>\n",
       "      <td>M</td>\n",
       "      <td>PhD</td>\n",
       "      <td>Professional</td>\n",
       "      <td>14</td>\n",
       "      <td>Private</td>\n",
       "      <td>14230</td>\n",
       "      <td>11</td>\n",
       "      <td>Minivan</td>\n",
       "      <td>yes</td>\n",
       "      <td>4461</td>\n",
       "      <td>2</td>\n",
       "      <td>No</td>\n",
       "      <td>3</td>\n",
       "      <td>0</td>\n",
       "      <td>18.0</td>\n",
       "      <td>0</td>\n",
       "      <td>Highly Urban/ Urban</td>\n",
       "      <td>1</td>\n",
       "    </tr>\n",
       "    <tr>\n",
       "      <th>1</th>\n",
       "      <td>0</td>\n",
       "      <td>43.0</td>\n",
       "      <td>0</td>\n",
       "      <td>11.0</td>\n",
       "      <td>91449</td>\n",
       "      <td>No</td>\n",
       "      <td>257252</td>\n",
       "      <td>No</td>\n",
       "      <td>M</td>\n",
       "      <td>High School</td>\n",
       "      <td>Blue Collar</td>\n",
       "      <td>22</td>\n",
       "      <td>Commercial</td>\n",
       "      <td>14940</td>\n",
       "      <td>1</td>\n",
       "      <td>Minivan</td>\n",
       "      <td>yes</td>\n",
       "      <td>0</td>\n",
       "      <td>0</td>\n",
       "      <td>No</td>\n",
       "      <td>0</td>\n",
       "      <td>0</td>\n",
       "      <td>1.0</td>\n",
       "      <td>0</td>\n",
       "      <td>Highly Urban/ Urban</td>\n",
       "      <td>1</td>\n",
       "    </tr>\n",
       "    <tr>\n",
       "      <th>2</th>\n",
       "      <td>0</td>\n",
       "      <td>48.0</td>\n",
       "      <td>0</td>\n",
       "      <td>11.0</td>\n",
       "      <td>52881</td>\n",
       "      <td>No</td>\n",
       "      <td>0</td>\n",
       "      <td>No</td>\n",
       "      <td>M</td>\n",
       "      <td>Bachelors</td>\n",
       "      <td>Manager</td>\n",
       "      <td>26</td>\n",
       "      <td>Private</td>\n",
       "      <td>21970</td>\n",
       "      <td>1</td>\n",
       "      <td>Van</td>\n",
       "      <td>yes</td>\n",
       "      <td>0</td>\n",
       "      <td>0</td>\n",
       "      <td>No</td>\n",
       "      <td>2</td>\n",
       "      <td>0</td>\n",
       "      <td>10.0</td>\n",
       "      <td>0</td>\n",
       "      <td>Highly Urban/ Urban</td>\n",
       "      <td>1</td>\n",
       "    </tr>\n",
       "    <tr>\n",
       "      <th>3</th>\n",
       "      <td>0</td>\n",
       "      <td>35.0</td>\n",
       "      <td>1</td>\n",
       "      <td>10.0</td>\n",
       "      <td>16039</td>\n",
       "      <td>No</td>\n",
       "      <td>124191</td>\n",
       "      <td>Yes</td>\n",
       "      <td>F</td>\n",
       "      <td>High School</td>\n",
       "      <td>Clerical</td>\n",
       "      <td>5</td>\n",
       "      <td>Private</td>\n",
       "      <td>4010</td>\n",
       "      <td>4</td>\n",
       "      <td>SUV</td>\n",
       "      <td>no</td>\n",
       "      <td>38690</td>\n",
       "      <td>2</td>\n",
       "      <td>No</td>\n",
       "      <td>3</td>\n",
       "      <td>0</td>\n",
       "      <td>10.0</td>\n",
       "      <td>0</td>\n",
       "      <td>Highly Urban/ Urban</td>\n",
       "      <td>1</td>\n",
       "    </tr>\n",
       "    <tr>\n",
       "      <th>4</th>\n",
       "      <td>0</td>\n",
       "      <td>51.0</td>\n",
       "      <td>0</td>\n",
       "      <td>14.0</td>\n",
       "      <td>&lt;NA&gt;</td>\n",
       "      <td>No</td>\n",
       "      <td>306251</td>\n",
       "      <td>Yes</td>\n",
       "      <td>M</td>\n",
       "      <td>&lt;High School</td>\n",
       "      <td>Blue Collar</td>\n",
       "      <td>32</td>\n",
       "      <td>Private</td>\n",
       "      <td>15440</td>\n",
       "      <td>7</td>\n",
       "      <td>Minivan</td>\n",
       "      <td>yes</td>\n",
       "      <td>0</td>\n",
       "      <td>0</td>\n",
       "      <td>No</td>\n",
       "      <td>0</td>\n",
       "      <td>0</td>\n",
       "      <td>6.0</td>\n",
       "      <td>0</td>\n",
       "      <td>Highly Urban/ Urban</td>\n",
       "      <td>1</td>\n",
       "    </tr>\n",
       "  </tbody>\n",
       "</table>\n",
       "</div>"
      ],
      "text/plain": [
       "   num_young_drivers   age  num_of_children  years_job_held_for  income  \\\n",
       "0                  0  60.0                0                11.0   67349   \n",
       "1                  0  43.0                0                11.0   91449   \n",
       "2                  0  48.0                0                11.0   52881   \n",
       "3                  0  35.0                1                10.0   16039   \n",
       "4                  0  51.0                0                14.0    <NA>   \n",
       "\n",
       "  single_parent  value_of_home married gender highest_education    occupation  \\\n",
       "0            No              0      No      M               PhD  Professional   \n",
       "1            No         257252      No      M       High School   Blue Collar   \n",
       "2            No              0      No      M         Bachelors       Manager   \n",
       "3            No         124191     Yes      F       High School      Clerical   \n",
       "4            No         306251     Yes      M      <High School   Blue Collar   \n",
       "\n",
       "   commute_dist type_of_use  vehicle_value  policy_tenure vehicle_type  \\\n",
       "0            14     Private          14230             11      Minivan   \n",
       "1            22  Commercial          14940              1      Minivan   \n",
       "2            26     Private          21970              1          Van   \n",
       "3             5     Private           4010              4          SUV   \n",
       "4            32     Private          15440              7      Minivan   \n",
       "\n",
       "  red_vehicle  5_year_total_claims_value  5_year_num_of_claims  \\\n",
       "0         yes                       4461                     2   \n",
       "1         yes                          0                     0   \n",
       "2         yes                          0                     0   \n",
       "3          no                      38690                     2   \n",
       "4         yes                          0                     0   \n",
       "\n",
       "  licence_revoked  license_points  new_claim_value  vehicle_age  is_claim  \\\n",
       "0              No               3                0         18.0         0   \n",
       "1              No               0                0          1.0         0   \n",
       "2              No               2                0         10.0         0   \n",
       "3              No               3                0         10.0         0   \n",
       "4              No               0                0          6.0         0   \n",
       "\n",
       "          address_type claim_value_cat  \n",
       "0  Highly Urban/ Urban               1  \n",
       "1  Highly Urban/ Urban               1  \n",
       "2  Highly Urban/ Urban               1  \n",
       "3  Highly Urban/ Urban               1  \n",
       "4  Highly Urban/ Urban               1  "
      ]
     },
     "execution_count": 20,
     "metadata": {},
     "output_type": "execute_result"
    }
   ],
   "source": [
    "data_df.head()"
   ]
  },
  {
   "cell_type": "code",
   "execution_count": 21,
   "id": "a1506936",
   "metadata": {},
   "outputs": [
    {
     "data": {
      "application/vnd.plotly.v1+json": {
       "config": {
        "plotlyServerURL": "https://plot.ly"
       },
       "data": [
        {
         "hovertemplate": "claim_value_cat=%{x}<br>count=%{y}<extra></extra>",
         "legendgroup": "",
         "marker": {
          "color": "#636efa",
          "pattern": {
           "shape": ""
          }
         },
         "name": "",
         "orientation": "v",
         "showlegend": false,
         "textposition": "auto",
         "type": "bar",
         "x": {
          "bdata": "CgkIBwYLBQMEAgE=",
          "dtype": "i1"
         },
         "xaxis": "x",
         "y": {
          "bdata": "BwAIAAoADgASABMAGwAtADAAFQNkJA==",
          "dtype": "i2"
         },
         "yaxis": "y"
        }
       ],
       "layout": {
        "barmode": "relative",
        "legend": {
         "tracegroupgap": 0
        },
        "margin": {
         "t": 60
        },
        "template": {
         "data": {
          "bar": [
           {
            "error_x": {
             "color": "#2a3f5f"
            },
            "error_y": {
             "color": "#2a3f5f"
            },
            "marker": {
             "line": {
              "color": "#E5ECF6",
              "width": 0.5
             },
             "pattern": {
              "fillmode": "overlay",
              "size": 10,
              "solidity": 0.2
             }
            },
            "type": "bar"
           }
          ],
          "barpolar": [
           {
            "marker": {
             "line": {
              "color": "#E5ECF6",
              "width": 0.5
             },
             "pattern": {
              "fillmode": "overlay",
              "size": 10,
              "solidity": 0.2
             }
            },
            "type": "barpolar"
           }
          ],
          "carpet": [
           {
            "aaxis": {
             "endlinecolor": "#2a3f5f",
             "gridcolor": "white",
             "linecolor": "white",
             "minorgridcolor": "white",
             "startlinecolor": "#2a3f5f"
            },
            "baxis": {
             "endlinecolor": "#2a3f5f",
             "gridcolor": "white",
             "linecolor": "white",
             "minorgridcolor": "white",
             "startlinecolor": "#2a3f5f"
            },
            "type": "carpet"
           }
          ],
          "choropleth": [
           {
            "colorbar": {
             "outlinewidth": 0,
             "ticks": ""
            },
            "type": "choropleth"
           }
          ],
          "contour": [
           {
            "colorbar": {
             "outlinewidth": 0,
             "ticks": ""
            },
            "colorscale": [
             [
              0,
              "#0d0887"
             ],
             [
              0.1111111111111111,
              "#46039f"
             ],
             [
              0.2222222222222222,
              "#7201a8"
             ],
             [
              0.3333333333333333,
              "#9c179e"
             ],
             [
              0.4444444444444444,
              "#bd3786"
             ],
             [
              0.5555555555555556,
              "#d8576b"
             ],
             [
              0.6666666666666666,
              "#ed7953"
             ],
             [
              0.7777777777777778,
              "#fb9f3a"
             ],
             [
              0.8888888888888888,
              "#fdca26"
             ],
             [
              1,
              "#f0f921"
             ]
            ],
            "type": "contour"
           }
          ],
          "contourcarpet": [
           {
            "colorbar": {
             "outlinewidth": 0,
             "ticks": ""
            },
            "type": "contourcarpet"
           }
          ],
          "heatmap": [
           {
            "colorbar": {
             "outlinewidth": 0,
             "ticks": ""
            },
            "colorscale": [
             [
              0,
              "#0d0887"
             ],
             [
              0.1111111111111111,
              "#46039f"
             ],
             [
              0.2222222222222222,
              "#7201a8"
             ],
             [
              0.3333333333333333,
              "#9c179e"
             ],
             [
              0.4444444444444444,
              "#bd3786"
             ],
             [
              0.5555555555555556,
              "#d8576b"
             ],
             [
              0.6666666666666666,
              "#ed7953"
             ],
             [
              0.7777777777777778,
              "#fb9f3a"
             ],
             [
              0.8888888888888888,
              "#fdca26"
             ],
             [
              1,
              "#f0f921"
             ]
            ],
            "type": "heatmap"
           }
          ],
          "histogram": [
           {
            "marker": {
             "pattern": {
              "fillmode": "overlay",
              "size": 10,
              "solidity": 0.2
             }
            },
            "type": "histogram"
           }
          ],
          "histogram2d": [
           {
            "colorbar": {
             "outlinewidth": 0,
             "ticks": ""
            },
            "colorscale": [
             [
              0,
              "#0d0887"
             ],
             [
              0.1111111111111111,
              "#46039f"
             ],
             [
              0.2222222222222222,
              "#7201a8"
             ],
             [
              0.3333333333333333,
              "#9c179e"
             ],
             [
              0.4444444444444444,
              "#bd3786"
             ],
             [
              0.5555555555555556,
              "#d8576b"
             ],
             [
              0.6666666666666666,
              "#ed7953"
             ],
             [
              0.7777777777777778,
              "#fb9f3a"
             ],
             [
              0.8888888888888888,
              "#fdca26"
             ],
             [
              1,
              "#f0f921"
             ]
            ],
            "type": "histogram2d"
           }
          ],
          "histogram2dcontour": [
           {
            "colorbar": {
             "outlinewidth": 0,
             "ticks": ""
            },
            "colorscale": [
             [
              0,
              "#0d0887"
             ],
             [
              0.1111111111111111,
              "#46039f"
             ],
             [
              0.2222222222222222,
              "#7201a8"
             ],
             [
              0.3333333333333333,
              "#9c179e"
             ],
             [
              0.4444444444444444,
              "#bd3786"
             ],
             [
              0.5555555555555556,
              "#d8576b"
             ],
             [
              0.6666666666666666,
              "#ed7953"
             ],
             [
              0.7777777777777778,
              "#fb9f3a"
             ],
             [
              0.8888888888888888,
              "#fdca26"
             ],
             [
              1,
              "#f0f921"
             ]
            ],
            "type": "histogram2dcontour"
           }
          ],
          "mesh3d": [
           {
            "colorbar": {
             "outlinewidth": 0,
             "ticks": ""
            },
            "type": "mesh3d"
           }
          ],
          "parcoords": [
           {
            "line": {
             "colorbar": {
              "outlinewidth": 0,
              "ticks": ""
             }
            },
            "type": "parcoords"
           }
          ],
          "pie": [
           {
            "automargin": true,
            "type": "pie"
           }
          ],
          "scatter": [
           {
            "fillpattern": {
             "fillmode": "overlay",
             "size": 10,
             "solidity": 0.2
            },
            "type": "scatter"
           }
          ],
          "scatter3d": [
           {
            "line": {
             "colorbar": {
              "outlinewidth": 0,
              "ticks": ""
             }
            },
            "marker": {
             "colorbar": {
              "outlinewidth": 0,
              "ticks": ""
             }
            },
            "type": "scatter3d"
           }
          ],
          "scattercarpet": [
           {
            "marker": {
             "colorbar": {
              "outlinewidth": 0,
              "ticks": ""
             }
            },
            "type": "scattercarpet"
           }
          ],
          "scattergeo": [
           {
            "marker": {
             "colorbar": {
              "outlinewidth": 0,
              "ticks": ""
             }
            },
            "type": "scattergeo"
           }
          ],
          "scattergl": [
           {
            "marker": {
             "colorbar": {
              "outlinewidth": 0,
              "ticks": ""
             }
            },
            "type": "scattergl"
           }
          ],
          "scattermap": [
           {
            "marker": {
             "colorbar": {
              "outlinewidth": 0,
              "ticks": ""
             }
            },
            "type": "scattermap"
           }
          ],
          "scattermapbox": [
           {
            "marker": {
             "colorbar": {
              "outlinewidth": 0,
              "ticks": ""
             }
            },
            "type": "scattermapbox"
           }
          ],
          "scatterpolar": [
           {
            "marker": {
             "colorbar": {
              "outlinewidth": 0,
              "ticks": ""
             }
            },
            "type": "scatterpolar"
           }
          ],
          "scatterpolargl": [
           {
            "marker": {
             "colorbar": {
              "outlinewidth": 0,
              "ticks": ""
             }
            },
            "type": "scatterpolargl"
           }
          ],
          "scatterternary": [
           {
            "marker": {
             "colorbar": {
              "outlinewidth": 0,
              "ticks": ""
             }
            },
            "type": "scatterternary"
           }
          ],
          "surface": [
           {
            "colorbar": {
             "outlinewidth": 0,
             "ticks": ""
            },
            "colorscale": [
             [
              0,
              "#0d0887"
             ],
             [
              0.1111111111111111,
              "#46039f"
             ],
             [
              0.2222222222222222,
              "#7201a8"
             ],
             [
              0.3333333333333333,
              "#9c179e"
             ],
             [
              0.4444444444444444,
              "#bd3786"
             ],
             [
              0.5555555555555556,
              "#d8576b"
             ],
             [
              0.6666666666666666,
              "#ed7953"
             ],
             [
              0.7777777777777778,
              "#fb9f3a"
             ],
             [
              0.8888888888888888,
              "#fdca26"
             ],
             [
              1,
              "#f0f921"
             ]
            ],
            "type": "surface"
           }
          ],
          "table": [
           {
            "cells": {
             "fill": {
              "color": "#EBF0F8"
             },
             "line": {
              "color": "white"
             }
            },
            "header": {
             "fill": {
              "color": "#C8D4E3"
             },
             "line": {
              "color": "white"
             }
            },
            "type": "table"
           }
          ]
         },
         "layout": {
          "annotationdefaults": {
           "arrowcolor": "#2a3f5f",
           "arrowhead": 0,
           "arrowwidth": 1
          },
          "autotypenumbers": "strict",
          "coloraxis": {
           "colorbar": {
            "outlinewidth": 0,
            "ticks": ""
           }
          },
          "colorscale": {
           "diverging": [
            [
             0,
             "#8e0152"
            ],
            [
             0.1,
             "#c51b7d"
            ],
            [
             0.2,
             "#de77ae"
            ],
            [
             0.3,
             "#f1b6da"
            ],
            [
             0.4,
             "#fde0ef"
            ],
            [
             0.5,
             "#f7f7f7"
            ],
            [
             0.6,
             "#e6f5d0"
            ],
            [
             0.7,
             "#b8e186"
            ],
            [
             0.8,
             "#7fbc41"
            ],
            [
             0.9,
             "#4d9221"
            ],
            [
             1,
             "#276419"
            ]
           ],
           "sequential": [
            [
             0,
             "#0d0887"
            ],
            [
             0.1111111111111111,
             "#46039f"
            ],
            [
             0.2222222222222222,
             "#7201a8"
            ],
            [
             0.3333333333333333,
             "#9c179e"
            ],
            [
             0.4444444444444444,
             "#bd3786"
            ],
            [
             0.5555555555555556,
             "#d8576b"
            ],
            [
             0.6666666666666666,
             "#ed7953"
            ],
            [
             0.7777777777777778,
             "#fb9f3a"
            ],
            [
             0.8888888888888888,
             "#fdca26"
            ],
            [
             1,
             "#f0f921"
            ]
           ],
           "sequentialminus": [
            [
             0,
             "#0d0887"
            ],
            [
             0.1111111111111111,
             "#46039f"
            ],
            [
             0.2222222222222222,
             "#7201a8"
            ],
            [
             0.3333333333333333,
             "#9c179e"
            ],
            [
             0.4444444444444444,
             "#bd3786"
            ],
            [
             0.5555555555555556,
             "#d8576b"
            ],
            [
             0.6666666666666666,
             "#ed7953"
            ],
            [
             0.7777777777777778,
             "#fb9f3a"
            ],
            [
             0.8888888888888888,
             "#fdca26"
            ],
            [
             1,
             "#f0f921"
            ]
           ]
          },
          "colorway": [
           "#636efa",
           "#EF553B",
           "#00cc96",
           "#ab63fa",
           "#FFA15A",
           "#19d3f3",
           "#FF6692",
           "#B6E880",
           "#FF97FF",
           "#FECB52"
          ],
          "font": {
           "color": "#2a3f5f"
          },
          "geo": {
           "bgcolor": "white",
           "lakecolor": "white",
           "landcolor": "#E5ECF6",
           "showlakes": true,
           "showland": true,
           "subunitcolor": "white"
          },
          "hoverlabel": {
           "align": "left"
          },
          "hovermode": "closest",
          "mapbox": {
           "style": "light"
          },
          "paper_bgcolor": "white",
          "plot_bgcolor": "#E5ECF6",
          "polar": {
           "angularaxis": {
            "gridcolor": "white",
            "linecolor": "white",
            "ticks": ""
           },
           "bgcolor": "#E5ECF6",
           "radialaxis": {
            "gridcolor": "white",
            "linecolor": "white",
            "ticks": ""
           }
          },
          "scene": {
           "xaxis": {
            "backgroundcolor": "#E5ECF6",
            "gridcolor": "white",
            "gridwidth": 2,
            "linecolor": "white",
            "showbackground": true,
            "ticks": "",
            "zerolinecolor": "white"
           },
           "yaxis": {
            "backgroundcolor": "#E5ECF6",
            "gridcolor": "white",
            "gridwidth": 2,
            "linecolor": "white",
            "showbackground": true,
            "ticks": "",
            "zerolinecolor": "white"
           },
           "zaxis": {
            "backgroundcolor": "#E5ECF6",
            "gridcolor": "white",
            "gridwidth": 2,
            "linecolor": "white",
            "showbackground": true,
            "ticks": "",
            "zerolinecolor": "white"
           }
          },
          "shapedefaults": {
           "line": {
            "color": "#2a3f5f"
           }
          },
          "ternary": {
           "aaxis": {
            "gridcolor": "white",
            "linecolor": "white",
            "ticks": ""
           },
           "baxis": {
            "gridcolor": "white",
            "linecolor": "white",
            "ticks": ""
           },
           "bgcolor": "#E5ECF6",
           "caxis": {
            "gridcolor": "white",
            "linecolor": "white",
            "ticks": ""
           }
          },
          "title": {
           "x": 0.05
          },
          "xaxis": {
           "automargin": true,
           "gridcolor": "white",
           "linecolor": "white",
           "ticks": "",
           "title": {
            "standoff": 15
           },
           "zerolinecolor": "white",
           "zerolinewidth": 2
          },
          "yaxis": {
           "automargin": true,
           "gridcolor": "white",
           "linecolor": "white",
           "ticks": "",
           "title": {
            "standoff": 15
           },
           "zerolinecolor": "white",
           "zerolinewidth": 2
          }
         }
        },
        "xaxis": {
         "anchor": "y",
         "domain": [
          0,
          1
         ],
         "title": {
          "text": "claim_value_cat"
         }
        },
        "yaxis": {
         "anchor": "x",
         "domain": [
          0,
          1
         ],
         "title": {
          "text": "count"
         }
        }
       }
      }
     },
     "metadata": {},
     "output_type": "display_data"
    }
   ],
   "source": [
    "# Show distributions with barplot\n",
    "df = data_df['claim_value_cat'].value_counts().sort_values().reset_index()\n",
    "df.columns = ['claim_value_cat', 'count']\n",
    "\n",
    "\n",
    "fig = px.bar(df, x='claim_value_cat', y = 'count')\n",
    "fig.show()"
   ]
  },
  {
   "cell_type": "code",
   "execution_count": 23,
   "id": "572c2f8a",
   "metadata": {},
   "outputs": [],
   "source": [
    "# Create copy of data\n",
    "X = data_df.copy()\n",
    "y = data_df['is_claim']\n",
    "\n",
    "# Drop target features from X\n",
    "X.drop(columns = ['new_claim_value', 'is_claim'], inplace = True)\n",
    "\n",
    "# Create train/test split\n",
    "X_train, X_test, y_train, y_test = train_test_split(X,y, test_size= 0.2, random_state=42, stratify = X['claim_value_cat'])\n",
    "# Stratify argument is to stritify sampling "
   ]
  },
  {
   "cell_type": "code",
   "execution_count": 25,
   "id": "3419ac20",
   "metadata": {},
   "outputs": [
    {
     "name": "stdout",
     "output_type": "stream",
     "text": [
      "train positive class ration : 26.48%\n",
      "Test positive class ration: 27.37%\n"
     ]
    }
   ],
   "source": [
    "# Check positive/negativa class ratio for y_train and y_test\n",
    "# Quick check to make sure that the positive and n egative classes for ther target distribution in the test set are \n",
    "# representative of the train set. We can easily do this by summing instances were true is equal to 1 and falses is equal to zero.\n",
    "# And then dividing by t he total a number of instances\n",
    "train_ratio = round((y_train.sum()/len(y_train))*100,2)\n",
    "test_ratio = round(y_test.sum()/len(y_test)*100,2)\n",
    "\n",
    "print(f'train positive class ration : {train_ratio}%')\n",
    "print(f'Test positive class ration: {test_ratio}%')"
   ]
  },
  {
   "cell_type": "code",
   "execution_count": null,
   "id": "97e4e9a9",
   "metadata": {},
   "outputs": [],
   "source": [
    "# Remove bins from each set\n",
    "for set_ in (X_train, X_test):\n",
    "    set_.drop(columns = ['claim_value_cat'], inplace= True)"
   ]
  },
  {
   "cell_type": "markdown",
   "id": "8c9673f7",
   "metadata": {},
   "source": [
    "#### 2. Exploratory Data Analysis (EDA)\n",
    "2.1 Preparation"
   ]
  },
  {
   "cell_type": "code",
   "execution_count": 28,
   "id": "3c4d3d8b",
   "metadata": {},
   "outputs": [],
   "source": [
    "# For the purpose of exploring our correlations between predictiors and the target variable\n",
    "# We are joining X_train and y_train so that we have the predictors and the target variabole in the same dataframe\n",
    "# As some of the features are categorical, we won~t be able to look at their correlation with this claim\n",
    "# We can make some changes to the binary categorical columns to easily fix this\n",
    "# Create new copy of X_train for analysis\n",
    "eda_test_data = X_train.copy()\n",
    "eda_test_data['is_claim'] = y_train"
   ]
  },
  {
   "cell_type": "code",
   "execution_count": 30,
   "id": "3449d82e",
   "metadata": {},
   "outputs": [],
   "source": [
    "# Define binary cols\n",
    "# I'll create a list that defines the binary columns then create a map that updates theses values from text\n",
    "# to zeros or ones\n",
    "\n",
    "# Define binary cols\n",
    "binary_cols = ['single_parent', 'married', 'gender', 'red_vehicle', 'licence_revoked']\n",
    "\n",
    "# Define map values\n",
    "mapping = { 'Yes' : 1,\n",
    "           'No' : 0,\n",
    "           'yes' : 1,\n",
    "           'no' : 0,\n",
    "           'M' : 1,\n",
    "           'F' : 0}\n",
    "\n",
    "# Define function to binarize features\n",
    "def binarize_values(data, cols, map):\n",
    "    for col in cols:\n",
    "        data[col] = data[col].map(map)\n",
    "    return data\n",
    "\n",
    "# Call function\n",
    "eda_test_data = binarize_values(eda_test_data, binary_cols, mapping)"
   ]
  },
  {
   "cell_type": "code",
   "execution_count": 31,
   "id": "79055199",
   "metadata": {},
   "outputs": [
    {
     "data": {
      "text/html": [
       "<div>\n",
       "<style scoped>\n",
       "    .dataframe tbody tr th:only-of-type {\n",
       "        vertical-align: middle;\n",
       "    }\n",
       "\n",
       "    .dataframe tbody tr th {\n",
       "        vertical-align: top;\n",
       "    }\n",
       "\n",
       "    .dataframe thead th {\n",
       "        text-align: right;\n",
       "    }\n",
       "</style>\n",
       "<table border=\"1\" class=\"dataframe\">\n",
       "  <thead>\n",
       "    <tr style=\"text-align: right;\">\n",
       "      <th></th>\n",
       "      <th>num_young_drivers</th>\n",
       "      <th>age</th>\n",
       "      <th>num_of_children</th>\n",
       "      <th>years_job_held_for</th>\n",
       "      <th>income</th>\n",
       "      <th>single_parent</th>\n",
       "      <th>value_of_home</th>\n",
       "      <th>married</th>\n",
       "      <th>gender</th>\n",
       "      <th>highest_education</th>\n",
       "      <th>occupation</th>\n",
       "      <th>commute_dist</th>\n",
       "      <th>type_of_use</th>\n",
       "      <th>vehicle_value</th>\n",
       "      <th>policy_tenure</th>\n",
       "      <th>vehicle_type</th>\n",
       "      <th>red_vehicle</th>\n",
       "      <th>5_year_total_claims_value</th>\n",
       "      <th>5_year_num_of_claims</th>\n",
       "      <th>licence_revoked</th>\n",
       "      <th>license_points</th>\n",
       "      <th>vehicle_age</th>\n",
       "      <th>address_type</th>\n",
       "      <th>claim_value_cat</th>\n",
       "      <th>is_claim</th>\n",
       "    </tr>\n",
       "  </thead>\n",
       "  <tbody>\n",
       "    <tr>\n",
       "      <th>8452</th>\n",
       "      <td>0</td>\n",
       "      <td>57.0</td>\n",
       "      <td>0</td>\n",
       "      <td>NaN</td>\n",
       "      <td>33707</td>\n",
       "      <td>0</td>\n",
       "      <td>0</td>\n",
       "      <td>0</td>\n",
       "      <td>0</td>\n",
       "      <td>&lt;High School</td>\n",
       "      <td>Blue Collar</td>\n",
       "      <td>40</td>\n",
       "      <td>Private</td>\n",
       "      <td>7200</td>\n",
       "      <td>10</td>\n",
       "      <td>SUV</td>\n",
       "      <td>0</td>\n",
       "      <td>0</td>\n",
       "      <td>0</td>\n",
       "      <td>0</td>\n",
       "      <td>1</td>\n",
       "      <td>1.0</td>\n",
       "      <td>Highly Rural/ Rural</td>\n",
       "      <td>1</td>\n",
       "      <td>0</td>\n",
       "    </tr>\n",
       "    <tr>\n",
       "      <th>7822</th>\n",
       "      <td>2</td>\n",
       "      <td>41.0</td>\n",
       "      <td>3</td>\n",
       "      <td>14.0</td>\n",
       "      <td>17321</td>\n",
       "      <td>0</td>\n",
       "      <td>109835</td>\n",
       "      <td>1</td>\n",
       "      <td>0</td>\n",
       "      <td>&lt;High School</td>\n",
       "      <td>Blue Collar</td>\n",
       "      <td>24</td>\n",
       "      <td>Private</td>\n",
       "      <td>6530</td>\n",
       "      <td>4</td>\n",
       "      <td>Sports Car</td>\n",
       "      <td>0</td>\n",
       "      <td>0</td>\n",
       "      <td>0</td>\n",
       "      <td>0</td>\n",
       "      <td>3</td>\n",
       "      <td>1.0</td>\n",
       "      <td>Highly Urban/ Urban</td>\n",
       "      <td>1</td>\n",
       "      <td>0</td>\n",
       "    </tr>\n",
       "    <tr>\n",
       "      <th>1312</th>\n",
       "      <td>0</td>\n",
       "      <td>29.0</td>\n",
       "      <td>2</td>\n",
       "      <td>12.0</td>\n",
       "      <td>54310</td>\n",
       "      <td>1</td>\n",
       "      <td>174139</td>\n",
       "      <td>0</td>\n",
       "      <td>1</td>\n",
       "      <td>&lt;High School</td>\n",
       "      <td>Clerical</td>\n",
       "      <td>39</td>\n",
       "      <td>Private</td>\n",
       "      <td>1500</td>\n",
       "      <td>4</td>\n",
       "      <td>Minivan</td>\n",
       "      <td>0</td>\n",
       "      <td>5419</td>\n",
       "      <td>1</td>\n",
       "      <td>0</td>\n",
       "      <td>5</td>\n",
       "      <td>6.0</td>\n",
       "      <td>Highly Urban/ Urban</td>\n",
       "      <td>2</td>\n",
       "      <td>1</td>\n",
       "    </tr>\n",
       "    <tr>\n",
       "      <th>921</th>\n",
       "      <td>0</td>\n",
       "      <td>46.0</td>\n",
       "      <td>1</td>\n",
       "      <td>13.0</td>\n",
       "      <td>62886</td>\n",
       "      <td>1</td>\n",
       "      <td>202178</td>\n",
       "      <td>0</td>\n",
       "      <td>0</td>\n",
       "      <td>Bachelors</td>\n",
       "      <td>Professional</td>\n",
       "      <td>18</td>\n",
       "      <td>Private</td>\n",
       "      <td>22260</td>\n",
       "      <td>1</td>\n",
       "      <td>Minivan</td>\n",
       "      <td>0</td>\n",
       "      <td>5290</td>\n",
       "      <td>1</td>\n",
       "      <td>0</td>\n",
       "      <td>6</td>\n",
       "      <td>6.0</td>\n",
       "      <td>Highly Urban/ Urban</td>\n",
       "      <td>1</td>\n",
       "      <td>0</td>\n",
       "    </tr>\n",
       "    <tr>\n",
       "      <th>8708</th>\n",
       "      <td>0</td>\n",
       "      <td>39.0</td>\n",
       "      <td>0</td>\n",
       "      <td>8.0</td>\n",
       "      <td>115182</td>\n",
       "      <td>0</td>\n",
       "      <td>312887</td>\n",
       "      <td>1</td>\n",
       "      <td>1</td>\n",
       "      <td>High School</td>\n",
       "      <td>Professional</td>\n",
       "      <td>25</td>\n",
       "      <td>Commercial</td>\n",
       "      <td>5400</td>\n",
       "      <td>1</td>\n",
       "      <td>Pickup</td>\n",
       "      <td>0</td>\n",
       "      <td>0</td>\n",
       "      <td>0</td>\n",
       "      <td>0</td>\n",
       "      <td>1</td>\n",
       "      <td>5.0</td>\n",
       "      <td>Highly Urban/ Urban</td>\n",
       "      <td>1</td>\n",
       "      <td>0</td>\n",
       "    </tr>\n",
       "  </tbody>\n",
       "</table>\n",
       "</div>"
      ],
      "text/plain": [
       "      num_young_drivers   age  num_of_children  years_job_held_for  income  \\\n",
       "8452                  0  57.0                0                 NaN   33707   \n",
       "7822                  2  41.0                3                14.0   17321   \n",
       "1312                  0  29.0                2                12.0   54310   \n",
       "921                   0  46.0                1                13.0   62886   \n",
       "8708                  0  39.0                0                 8.0  115182   \n",
       "\n",
       "      single_parent  value_of_home  married  gender highest_education  \\\n",
       "8452              0              0        0       0      <High School   \n",
       "7822              0         109835        1       0      <High School   \n",
       "1312              1         174139        0       1      <High School   \n",
       "921               1         202178        0       0         Bachelors   \n",
       "8708              0         312887        1       1       High School   \n",
       "\n",
       "        occupation  commute_dist type_of_use  vehicle_value  policy_tenure  \\\n",
       "8452   Blue Collar            40     Private           7200             10   \n",
       "7822   Blue Collar            24     Private           6530              4   \n",
       "1312      Clerical            39     Private           1500              4   \n",
       "921   Professional            18     Private          22260              1   \n",
       "8708  Professional            25  Commercial           5400              1   \n",
       "\n",
       "     vehicle_type  red_vehicle  5_year_total_claims_value  \\\n",
       "8452          SUV            0                          0   \n",
       "7822   Sports Car            0                          0   \n",
       "1312      Minivan            0                       5419   \n",
       "921       Minivan            0                       5290   \n",
       "8708       Pickup            0                          0   \n",
       "\n",
       "      5_year_num_of_claims  licence_revoked  license_points  vehicle_age  \\\n",
       "8452                     0                0               1          1.0   \n",
       "7822                     0                0               3          1.0   \n",
       "1312                     1                0               5          6.0   \n",
       "921                      1                0               6          6.0   \n",
       "8708                     0                0               1          5.0   \n",
       "\n",
       "             address_type claim_value_cat  is_claim  \n",
       "8452  Highly Rural/ Rural               1         0  \n",
       "7822  Highly Urban/ Urban               1         0  \n",
       "1312  Highly Urban/ Urban               2         1  \n",
       "921   Highly Urban/ Urban               1         0  \n",
       "8708  Highly Urban/ Urban               1         0  "
      ]
     },
     "execution_count": 31,
     "metadata": {},
     "output_type": "execute_result"
    }
   ],
   "source": [
    "# Check updated values\n",
    "eda_test_data.head()"
   ]
  },
  {
   "cell_type": "markdown",
   "id": "14bcbb09",
   "metadata": {},
   "source": [
    "2.2.Correlation matrix"
   ]
  },
  {
   "cell_type": "code",
   "execution_count": 33,
   "id": "95da0c8d",
   "metadata": {},
   "outputs": [],
   "source": [
    "# We can now go ahead and investigate how each of our features correlates with is claim feature\n",
    "corr_matrix = eda_test_data.corr(numeric_only = True).sort_values(['is_claim'], ascending = True)"
   ]
  },
  {
   "cell_type": "code",
   "execution_count": 34,
   "id": "e316c636",
   "metadata": {},
   "outputs": [],
   "source": [
    "corr_matrix_no_claim = corr_matrix.drop('is_claim')"
   ]
  },
  {
   "cell_type": "code",
   "execution_count": 37,
   "id": "27bf1bae",
   "metadata": {},
   "outputs": [
    {
     "data": {
      "text/plain": [
       "<Axes: >"
      ]
     },
     "execution_count": 37,
     "metadata": {},
     "output_type": "execute_result"
    },
    {
     "data": {
      "image/png": "[encoded data removed]",
      "text/plain": [
       "<Figure size 400x800 with 2 Axes>"
      ]
     },
     "metadata": {},
     "output_type": "display_data"
    }
   ],
   "source": [
    "# Create a heatmap\n",
    "fig, ax = plt.subplots(figsize = (4,8))\n",
    "sns.heatmap(corr_matrix_no_claim[['is_claim']], cmap= 'coolwarm', annot= True, vmax = 0.25, vmin = -0.25)"
   ]
  },
  {
   "cell_type": "markdown",
   "id": "35751074",
   "metadata": {},
   "source": [
    "We can't infer causation but we can speculate. The total number of claims in the past 5 years might suggest that the more a person is claimed in the past the more likely they might be are to claim again in the future. With license poinst, the more points they have might suggest a lower quality of driving and might reflect their likelihood to claim again in the future. Then looking at the strongest negative correlation, we can see that home value is the strongest and income the next strongest . We can also see in the center, with very negligible correlationthe red vehicle feature. It could be somthing of an urban myth that relates to red cars and that they're more likely to be involved in accidents, but we can see from our data at least that doesn't appear to be true."
   ]
  },
  {
   "cell_type": "markdown",
   "id": "461d6404",
   "metadata": {},
   "source": [
    "### 3. Dta Cleaning and Preprocessing\n",
    "3.1 Dropping Features"
   ]
  },
  {
   "cell_type": "code",
   "execution_count": 38,
   "id": "6f30fa03",
   "metadata": {},
   "outputs": [],
   "source": [
    "X_train_raw = X_train.copy()\n",
    "\n",
    "# Define cols to drop\n",
    "cols_to_drop = ['red_vehicle']\n",
    "\n",
    "# Drop cols\n",
    "X_train_raw.drop(columns = cols_to_drop, axis = 1, inplace = True)"
   ]
  },
  {
   "cell_type": "markdown",
   "id": "768acf6a",
   "metadata": {},
   "source": [
    "### 3.2. Handling Missing values\n"
   ]
  },
  {
   "cell_type": "code",
   "execution_count": 39,
   "id": "11b61ad0",
   "metadata": {},
   "outputs": [
    {
     "data": {
      "text/plain": [
       "np.int64(2418)"
      ]
     },
     "execution_count": 39,
     "metadata": {},
     "output_type": "execute_result"
    }
   ],
   "source": [
    "# Check the number of missing values \n",
    "X_train_raw.isnull().sum().sum()"
   ]
  },
  {
   "cell_type": "code",
   "execution_count": null,
   "id": "e5c02eee",
   "metadata": {},
   "outputs": [
    {
     "data": {
      "text/plain": [
       "num_young_drivers              0\n",
       "age                            5\n",
       "num_of_children                0\n",
       "years_job_held_for           433\n",
       "income                       474\n",
       "single_parent                  0\n",
       "value_of_home                462\n",
       "married                        0\n",
       "gender                         0\n",
       "highest_education              0\n",
       "occupation                   527\n",
       "commute_dist                   0\n",
       "type_of_use                    0\n",
       "vehicle_value                  0\n",
       "policy_tenure                  0\n",
       "vehicle_type                   0\n",
       "5_year_total_claims_value      0\n",
       "5_year_num_of_claims           0\n",
       "licence_revoked                0\n",
       "license_points                 0\n",
       "vehicle_age                  517\n",
       "address_type                   0\n",
       "claim_value_cat                0\n",
       "dtype: int64"
      ]
     },
     "execution_count": 40,
     "metadata": {},
     "output_type": "execute_result"
    }
   ],
   "source": [
    "# Check how many missingg values by feature\n",
    "X_train_raw.isnull().sum()\n"
   ]
  },
  {
   "cell_type": "code",
   "execution_count": 41,
   "id": "a9fde33a",
   "metadata": {},
   "outputs": [],
   "source": [
    "# For the numerical features using a simple imputer with a strategy like mean or median might be too naive for our model \n",
    "# We can try be a bit more intelligent and use a k nearest neighbors imputer or knn imputer\n",
    "# the k nearest neighbors imputer will take the nearest information it has available ans interpolate to input a value\n",
    "\n",
    "# Create imputer\n",
    "knn_inputer = KNNImputer(n_neighbors=2)\n",
    "\n",
    "# Define the numerical cols\n",
    "numerical_cols_df = X_train_raw.select_dtypes(include = ['number'])\n",
    "numerical_cols = numerical_cols_df.columns.tolist()\n",
    "\n",
    "# Define the categorical cols to use later\n",
    "cat_cols_df = X_train_raw.select_dtypes(include = ['object'])\n",
    "cat_cols = cat_cols_df.columns.tolist()"
   ]
  },
  {
   "cell_type": "code",
   "execution_count": 42,
   "id": "f775fdb8",
   "metadata": {},
   "outputs": [],
   "source": [
    "#  Define function to inpute numerical features using KNN\n",
    "def num_knn_impute(data, cols, imputer):\n",
    "    data = data[cols]\n",
    "    data_imputed = pd.DataFrame(imputer.fit_transform(data))\n",
    "    data_imputed.columns = data.columns\n",
    "    return data_imputed\n",
    "\n",
    "# Call function to impute values\n",
    "num_test_data_imputed = num_knn_impute(X_train_raw, numerical_cols, knn_inputer)\n"
   ]
  },
  {
   "cell_type": "code",
   "execution_count": 44,
   "id": "e453c8b5",
   "metadata": {},
   "outputs": [
    {
     "data": {
      "text/html": [
       "<div>\n",
       "<style scoped>\n",
       "    .dataframe tbody tr th:only-of-type {\n",
       "        vertical-align: middle;\n",
       "    }\n",
       "\n",
       "    .dataframe tbody tr th {\n",
       "        vertical-align: top;\n",
       "    }\n",
       "\n",
       "    .dataframe thead th {\n",
       "        text-align: right;\n",
       "    }\n",
       "</style>\n",
       "<table border=\"1\" class=\"dataframe\">\n",
       "  <thead>\n",
       "    <tr style=\"text-align: right;\">\n",
       "      <th></th>\n",
       "      <th>num_young_drivers</th>\n",
       "      <th>age</th>\n",
       "      <th>num_of_children</th>\n",
       "      <th>years_job_held_for</th>\n",
       "      <th>income</th>\n",
       "      <th>value_of_home</th>\n",
       "      <th>commute_dist</th>\n",
       "      <th>vehicle_value</th>\n",
       "      <th>policy_tenure</th>\n",
       "      <th>5_year_total_claims_value</th>\n",
       "      <th>5_year_num_of_claims</th>\n",
       "      <th>license_points</th>\n",
       "      <th>vehicle_age</th>\n",
       "    </tr>\n",
       "  </thead>\n",
       "  <tbody>\n",
       "    <tr>\n",
       "      <th>0</th>\n",
       "      <td>0</td>\n",
       "      <td>57.0</td>\n",
       "      <td>0</td>\n",
       "      <td>NaN</td>\n",
       "      <td>33707</td>\n",
       "      <td>0</td>\n",
       "      <td>40</td>\n",
       "      <td>7200</td>\n",
       "      <td>10</td>\n",
       "      <td>0</td>\n",
       "      <td>0</td>\n",
       "      <td>1</td>\n",
       "      <td>1.0</td>\n",
       "    </tr>\n",
       "    <tr>\n",
       "      <th>11</th>\n",
       "      <td>0</td>\n",
       "      <td>36.0</td>\n",
       "      <td>2</td>\n",
       "      <td>13.0</td>\n",
       "      <td>19934</td>\n",
       "      <td>&lt;NA&gt;</td>\n",
       "      <td>17</td>\n",
       "      <td>10790</td>\n",
       "      <td>6</td>\n",
       "      <td>7797</td>\n",
       "      <td>2</td>\n",
       "      <td>9</td>\n",
       "      <td>1.0</td>\n",
       "    </tr>\n",
       "    <tr>\n",
       "      <th>19</th>\n",
       "      <td>0</td>\n",
       "      <td>59.0</td>\n",
       "      <td>0</td>\n",
       "      <td>11.0</td>\n",
       "      <td>123969</td>\n",
       "      <td>347418</td>\n",
       "      <td>35</td>\n",
       "      <td>31540</td>\n",
       "      <td>1</td>\n",
       "      <td>0</td>\n",
       "      <td>0</td>\n",
       "      <td>1</td>\n",
       "      <td>NaN</td>\n",
       "    </tr>\n",
       "    <tr>\n",
       "      <th>25</th>\n",
       "      <td>0</td>\n",
       "      <td>51.0</td>\n",
       "      <td>0</td>\n",
       "      <td>7.0</td>\n",
       "      <td>141546</td>\n",
       "      <td>351285</td>\n",
       "      <td>18</td>\n",
       "      <td>29330</td>\n",
       "      <td>4</td>\n",
       "      <td>1184</td>\n",
       "      <td>2</td>\n",
       "      <td>4</td>\n",
       "      <td>NaN</td>\n",
       "    </tr>\n",
       "    <tr>\n",
       "      <th>28</th>\n",
       "      <td>1</td>\n",
       "      <td>51.0</td>\n",
       "      <td>1</td>\n",
       "      <td>8.0</td>\n",
       "      <td>&lt;NA&gt;</td>\n",
       "      <td>253662</td>\n",
       "      <td>5</td>\n",
       "      <td>12430</td>\n",
       "      <td>1</td>\n",
       "      <td>9000</td>\n",
       "      <td>1</td>\n",
       "      <td>0</td>\n",
       "      <td>11.0</td>\n",
       "    </tr>\n",
       "  </tbody>\n",
       "</table>\n",
       "</div>"
      ],
      "text/plain": [
       "    num_young_drivers   age  num_of_children  years_job_held_for  income  \\\n",
       "0                   0  57.0                0                 NaN   33707   \n",
       "11                  0  36.0                2                13.0   19934   \n",
       "19                  0  59.0                0                11.0  123969   \n",
       "25                  0  51.0                0                 7.0  141546   \n",
       "28                  1  51.0                1                 8.0    <NA>   \n",
       "\n",
       "    value_of_home  commute_dist  vehicle_value  policy_tenure  \\\n",
       "0               0            40           7200             10   \n",
       "11           <NA>            17          10790              6   \n",
       "19         347418            35          31540              1   \n",
       "25         351285            18          29330              4   \n",
       "28         253662             5          12430              1   \n",
       "\n",
       "    5_year_total_claims_value  5_year_num_of_claims  license_points  \\\n",
       "0                           0                     0               1   \n",
       "11                       7797                     2               9   \n",
       "19                          0                     0               1   \n",
       "25                       1184                     2               4   \n",
       "28                       9000                     1               0   \n",
       "\n",
       "    vehicle_age  \n",
       "0           1.0  \n",
       "11          1.0  \n",
       "19          NaN  \n",
       "25          NaN  \n",
       "28         11.0  "
      ]
     },
     "execution_count": 44,
     "metadata": {},
     "output_type": "execute_result"
    }
   ],
   "source": [
    "# Get numerical cols as a df\n",
    "num_cols_df = X_train_raw[numerical_cols].reset_index(drop = True)\n",
    "\n",
    "# Select rows with missing values and show head\n",
    "missing_data_df = num_cols_df[num_cols_df.isna().any(axis = 1)]\n",
    "missing_data_df.head()"
   ]
  },
  {
   "cell_type": "code",
   "execution_count": 45,
   "id": "a69b65e2",
   "metadata": {},
   "outputs": [
    {
     "data": {
      "text/html": [
       "<div>\n",
       "<style scoped>\n",
       "    .dataframe tbody tr th:only-of-type {\n",
       "        vertical-align: middle;\n",
       "    }\n",
       "\n",
       "    .dataframe tbody tr th {\n",
       "        vertical-align: top;\n",
       "    }\n",
       "\n",
       "    .dataframe thead th {\n",
       "        text-align: right;\n",
       "    }\n",
       "</style>\n",
       "<table border=\"1\" class=\"dataframe\">\n",
       "  <thead>\n",
       "    <tr style=\"text-align: right;\">\n",
       "      <th></th>\n",
       "      <th>num_young_drivers</th>\n",
       "      <th>age</th>\n",
       "      <th>num_of_children</th>\n",
       "      <th>years_job_held_for</th>\n",
       "      <th>income</th>\n",
       "      <th>value_of_home</th>\n",
       "      <th>commute_dist</th>\n",
       "      <th>vehicle_value</th>\n",
       "      <th>policy_tenure</th>\n",
       "      <th>5_year_total_claims_value</th>\n",
       "      <th>5_year_num_of_claims</th>\n",
       "      <th>license_points</th>\n",
       "      <th>vehicle_age</th>\n",
       "    </tr>\n",
       "  </thead>\n",
       "  <tbody>\n",
       "    <tr>\n",
       "      <th>0</th>\n",
       "      <td>0.0</td>\n",
       "      <td>57.0</td>\n",
       "      <td>0.0</td>\n",
       "      <td>0.0</td>\n",
       "      <td>33707.0</td>\n",
       "      <td>0.0</td>\n",
       "      <td>40.0</td>\n",
       "      <td>7200.0</td>\n",
       "      <td>10.0</td>\n",
       "      <td>0.0</td>\n",
       "      <td>0.0</td>\n",
       "      <td>1.0</td>\n",
       "      <td>1.0</td>\n",
       "    </tr>\n",
       "    <tr>\n",
       "      <th>11</th>\n",
       "      <td>0.0</td>\n",
       "      <td>36.0</td>\n",
       "      <td>2.0</td>\n",
       "      <td>13.0</td>\n",
       "      <td>19934.0</td>\n",
       "      <td>158778.5</td>\n",
       "      <td>17.0</td>\n",
       "      <td>10790.0</td>\n",
       "      <td>6.0</td>\n",
       "      <td>7797.0</td>\n",
       "      <td>2.0</td>\n",
       "      <td>9.0</td>\n",
       "      <td>1.0</td>\n",
       "    </tr>\n",
       "    <tr>\n",
       "      <th>19</th>\n",
       "      <td>0.0</td>\n",
       "      <td>59.0</td>\n",
       "      <td>0.0</td>\n",
       "      <td>11.0</td>\n",
       "      <td>123969.0</td>\n",
       "      <td>347418.0</td>\n",
       "      <td>35.0</td>\n",
       "      <td>31540.0</td>\n",
       "      <td>1.0</td>\n",
       "      <td>0.0</td>\n",
       "      <td>0.0</td>\n",
       "      <td>1.0</td>\n",
       "      <td>8.5</td>\n",
       "    </tr>\n",
       "    <tr>\n",
       "      <th>25</th>\n",
       "      <td>0.0</td>\n",
       "      <td>51.0</td>\n",
       "      <td>0.0</td>\n",
       "      <td>7.0</td>\n",
       "      <td>141546.0</td>\n",
       "      <td>351285.0</td>\n",
       "      <td>18.0</td>\n",
       "      <td>29330.0</td>\n",
       "      <td>4.0</td>\n",
       "      <td>1184.0</td>\n",
       "      <td>2.0</td>\n",
       "      <td>4.0</td>\n",
       "      <td>7.0</td>\n",
       "    </tr>\n",
       "    <tr>\n",
       "      <th>28</th>\n",
       "      <td>1.0</td>\n",
       "      <td>51.0</td>\n",
       "      <td>1.0</td>\n",
       "      <td>8.0</td>\n",
       "      <td>67333.0</td>\n",
       "      <td>253662.0</td>\n",
       "      <td>5.0</td>\n",
       "      <td>12430.0</td>\n",
       "      <td>1.0</td>\n",
       "      <td>9000.0</td>\n",
       "      <td>1.0</td>\n",
       "      <td>0.0</td>\n",
       "      <td>11.0</td>\n",
       "    </tr>\n",
       "  </tbody>\n",
       "</table>\n",
       "</div>"
      ],
      "text/plain": [
       "    num_young_drivers   age  num_of_children  years_job_held_for    income  \\\n",
       "0                 0.0  57.0              0.0                 0.0   33707.0   \n",
       "11                0.0  36.0              2.0                13.0   19934.0   \n",
       "19                0.0  59.0              0.0                11.0  123969.0   \n",
       "25                0.0  51.0              0.0                 7.0  141546.0   \n",
       "28                1.0  51.0              1.0                 8.0   67333.0   \n",
       "\n",
       "    value_of_home  commute_dist  vehicle_value  policy_tenure  \\\n",
       "0             0.0          40.0         7200.0           10.0   \n",
       "11       158778.5          17.0        10790.0            6.0   \n",
       "19       347418.0          35.0        31540.0            1.0   \n",
       "25       351285.0          18.0        29330.0            4.0   \n",
       "28       253662.0           5.0        12430.0            1.0   \n",
       "\n",
       "    5_year_total_claims_value  5_year_num_of_claims  license_points  \\\n",
       "0                         0.0                   0.0             1.0   \n",
       "11                     7797.0                   2.0             9.0   \n",
       "19                        0.0                   0.0             1.0   \n",
       "25                     1184.0                   2.0             4.0   \n",
       "28                     9000.0                   1.0             0.0   \n",
       "\n",
       "    vehicle_age  \n",
       "0           1.0  \n",
       "11          1.0  \n",
       "19          8.5  \n",
       "25          7.0  \n",
       "28         11.0  "
      ]
     },
     "execution_count": 45,
     "metadata": {},
     "output_type": "execute_result"
    }
   ],
   "source": [
    "# Show same records as above but after imputation \n",
    "samples = missing_data_df.index.to_list()\n",
    "num_test_data_imputed.loc[samples].head()"
   ]
  },
  {
   "cell_type": "markdown",
   "id": "007be338",
   "metadata": {},
   "source": [
    "Categorical feature imputation"
   ]
  },
  {
   "cell_type": "code",
   "execution_count": 46,
   "id": "4babfc3f",
   "metadata": {},
   "outputs": [],
   "source": [
    "# For the categorical value, I'm gonan use a simpel imputer and inpute the most common value\n",
    "simple_imputer = SimpleImputer(strategy = 'most_frequent')\n",
    "\n",
    "# Define function to impute cat features using simple imputer\n",
    "def cat_simple_imputer(data, cols, imputer):\n",
    "    data = data[cols]\n",
    "    data_imputed = pd.DataFrame(imputer.fit_transform(data))\n",
    "    data_imputed.columns = data.columns\n",
    "    return data_imputed\n",
    "\n",
    "# Call fucntion to impute cat features\n",
    "cat_test_ata_imputed = cat_simple_imputer(X_train_raw, cat_cols, simple_imputer)\n",
    "\n"
   ]
  },
  {
   "cell_type": "code",
   "execution_count": 47,
   "id": "4149c21e",
   "metadata": {},
   "outputs": [
    {
     "data": {
      "text/html": [
       "<div>\n",
       "<style scoped>\n",
       "    .dataframe tbody tr th:only-of-type {\n",
       "        vertical-align: middle;\n",
       "    }\n",
       "\n",
       "    .dataframe tbody tr th {\n",
       "        vertical-align: top;\n",
       "    }\n",
       "\n",
       "    .dataframe thead th {\n",
       "        text-align: right;\n",
       "    }\n",
       "</style>\n",
       "<table border=\"1\" class=\"dataframe\">\n",
       "  <thead>\n",
       "    <tr style=\"text-align: right;\">\n",
       "      <th></th>\n",
       "      <th>single_parent</th>\n",
       "      <th>married</th>\n",
       "      <th>gender</th>\n",
       "      <th>highest_education</th>\n",
       "      <th>occupation</th>\n",
       "      <th>type_of_use</th>\n",
       "      <th>vehicle_type</th>\n",
       "      <th>licence_revoked</th>\n",
       "      <th>address_type</th>\n",
       "    </tr>\n",
       "  </thead>\n",
       "  <tbody>\n",
       "    <tr>\n",
       "      <th>19</th>\n",
       "      <td>No</td>\n",
       "      <td>Yes</td>\n",
       "      <td>M</td>\n",
       "      <td>Masters</td>\n",
       "      <td>NaN</td>\n",
       "      <td>Commercial</td>\n",
       "      <td>Panel Truck</td>\n",
       "      <td>No</td>\n",
       "      <td>Highly Urban/ Urban</td>\n",
       "    </tr>\n",
       "    <tr>\n",
       "      <th>36</th>\n",
       "      <td>No</td>\n",
       "      <td>Yes</td>\n",
       "      <td>F</td>\n",
       "      <td>Masters</td>\n",
       "      <td>NaN</td>\n",
       "      <td>Commercial</td>\n",
       "      <td>Van</td>\n",
       "      <td>No</td>\n",
       "      <td>Highly Urban/ Urban</td>\n",
       "    </tr>\n",
       "    <tr>\n",
       "      <th>69</th>\n",
       "      <td>Yes</td>\n",
       "      <td>No</td>\n",
       "      <td>M</td>\n",
       "      <td>Masters</td>\n",
       "      <td>NaN</td>\n",
       "      <td>Commercial</td>\n",
       "      <td>Van</td>\n",
       "      <td>No</td>\n",
       "      <td>Highly Urban/ Urban</td>\n",
       "    </tr>\n",
       "    <tr>\n",
       "      <th>77</th>\n",
       "      <td>No</td>\n",
       "      <td>No</td>\n",
       "      <td>M</td>\n",
       "      <td>Masters</td>\n",
       "      <td>NaN</td>\n",
       "      <td>Commercial</td>\n",
       "      <td>Pickup</td>\n",
       "      <td>No</td>\n",
       "      <td>Highly Rural/ Rural</td>\n",
       "    </tr>\n",
       "    <tr>\n",
       "      <th>78</th>\n",
       "      <td>No</td>\n",
       "      <td>Yes</td>\n",
       "      <td>M</td>\n",
       "      <td>PhD</td>\n",
       "      <td>NaN</td>\n",
       "      <td>Commercial</td>\n",
       "      <td>Panel Truck</td>\n",
       "      <td>No</td>\n",
       "      <td>Highly Rural/ Rural</td>\n",
       "    </tr>\n",
       "  </tbody>\n",
       "</table>\n",
       "</div>"
      ],
      "text/plain": [
       "   single_parent married gender highest_education occupation type_of_use  \\\n",
       "19            No     Yes      M           Masters        NaN  Commercial   \n",
       "36            No     Yes      F           Masters        NaN  Commercial   \n",
       "69           Yes      No      M           Masters        NaN  Commercial   \n",
       "77            No      No      M           Masters        NaN  Commercial   \n",
       "78            No     Yes      M               PhD        NaN  Commercial   \n",
       "\n",
       "   vehicle_type licence_revoked         address_type  \n",
       "19  Panel Truck              No  Highly Urban/ Urban  \n",
       "36          Van              No  Highly Urban/ Urban  \n",
       "69          Van              No  Highly Urban/ Urban  \n",
       "77       Pickup              No  Highly Rural/ Rural  \n",
       "78  Panel Truck              No  Highly Rural/ Rural  "
      ]
     },
     "execution_count": 47,
     "metadata": {},
     "output_type": "execute_result"
    }
   ],
   "source": [
    "# Get categorical cols as a df\n",
    "cat_cols_df = X_train_raw[cat_cols].reset_index(drop = True)\n",
    "\n",
    "# Select rows with missing values and show head\n",
    "cat_missing_data_df = cat_cols_df[cat_cols_df.isna().any(axis = 1)]\n",
    "cat_missing_data_df.head()"
   ]
  },
  {
   "cell_type": "code",
   "execution_count": 48,
   "id": "8747e9e0",
   "metadata": {},
   "outputs": [
    {
     "data": {
      "text/html": [
       "<div>\n",
       "<style scoped>\n",
       "    .dataframe tbody tr th:only-of-type {\n",
       "        vertical-align: middle;\n",
       "    }\n",
       "\n",
       "    .dataframe tbody tr th {\n",
       "        vertical-align: top;\n",
       "    }\n",
       "\n",
       "    .dataframe thead th {\n",
       "        text-align: right;\n",
       "    }\n",
       "</style>\n",
       "<table border=\"1\" class=\"dataframe\">\n",
       "  <thead>\n",
       "    <tr style=\"text-align: right;\">\n",
       "      <th></th>\n",
       "      <th>single_parent</th>\n",
       "      <th>married</th>\n",
       "      <th>gender</th>\n",
       "      <th>highest_education</th>\n",
       "      <th>occupation</th>\n",
       "      <th>type_of_use</th>\n",
       "      <th>vehicle_type</th>\n",
       "      <th>licence_revoked</th>\n",
       "      <th>address_type</th>\n",
       "    </tr>\n",
       "  </thead>\n",
       "  <tbody>\n",
       "    <tr>\n",
       "      <th>19</th>\n",
       "      <td>No</td>\n",
       "      <td>Yes</td>\n",
       "      <td>M</td>\n",
       "      <td>Masters</td>\n",
       "      <td>Blue Collar</td>\n",
       "      <td>Commercial</td>\n",
       "      <td>Panel Truck</td>\n",
       "      <td>No</td>\n",
       "      <td>Highly Urban/ Urban</td>\n",
       "    </tr>\n",
       "    <tr>\n",
       "      <th>36</th>\n",
       "      <td>No</td>\n",
       "      <td>Yes</td>\n",
       "      <td>F</td>\n",
       "      <td>Masters</td>\n",
       "      <td>Blue Collar</td>\n",
       "      <td>Commercial</td>\n",
       "      <td>Van</td>\n",
       "      <td>No</td>\n",
       "      <td>Highly Urban/ Urban</td>\n",
       "    </tr>\n",
       "    <tr>\n",
       "      <th>69</th>\n",
       "      <td>Yes</td>\n",
       "      <td>No</td>\n",
       "      <td>M</td>\n",
       "      <td>Masters</td>\n",
       "      <td>Blue Collar</td>\n",
       "      <td>Commercial</td>\n",
       "      <td>Van</td>\n",
       "      <td>No</td>\n",
       "      <td>Highly Urban/ Urban</td>\n",
       "    </tr>\n",
       "    <tr>\n",
       "      <th>77</th>\n",
       "      <td>No</td>\n",
       "      <td>No</td>\n",
       "      <td>M</td>\n",
       "      <td>Masters</td>\n",
       "      <td>Blue Collar</td>\n",
       "      <td>Commercial</td>\n",
       "      <td>Pickup</td>\n",
       "      <td>No</td>\n",
       "      <td>Highly Rural/ Rural</td>\n",
       "    </tr>\n",
       "    <tr>\n",
       "      <th>78</th>\n",
       "      <td>No</td>\n",
       "      <td>Yes</td>\n",
       "      <td>M</td>\n",
       "      <td>PhD</td>\n",
       "      <td>Blue Collar</td>\n",
       "      <td>Commercial</td>\n",
       "      <td>Panel Truck</td>\n",
       "      <td>No</td>\n",
       "      <td>Highly Rural/ Rural</td>\n",
       "    </tr>\n",
       "  </tbody>\n",
       "</table>\n",
       "</div>"
      ],
      "text/plain": [
       "   single_parent married gender highest_education   occupation type_of_use  \\\n",
       "19            No     Yes      M           Masters  Blue Collar  Commercial   \n",
       "36            No     Yes      F           Masters  Blue Collar  Commercial   \n",
       "69           Yes      No      M           Masters  Blue Collar  Commercial   \n",
       "77            No      No      M           Masters  Blue Collar  Commercial   \n",
       "78            No     Yes      M               PhD  Blue Collar  Commercial   \n",
       "\n",
       "   vehicle_type licence_revoked         address_type  \n",
       "19  Panel Truck              No  Highly Urban/ Urban  \n",
       "36          Van              No  Highly Urban/ Urban  \n",
       "69          Van              No  Highly Urban/ Urban  \n",
       "77       Pickup              No  Highly Rural/ Rural  \n",
       "78  Panel Truck              No  Highly Rural/ Rural  "
      ]
     },
     "execution_count": 48,
     "metadata": {},
     "output_type": "execute_result"
    }
   ],
   "source": [
    "# Show same records as above but after imputation \n",
    "samples = cat_missing_data_df.index.to_list()\n",
    "cat_test_ata_imputed.loc[samples].head()"
   ]
  },
  {
   "cell_type": "markdown",
   "id": "b12a0431",
   "metadata": {},
   "source": [
    "Rejoin numerical and categorical ata following imputation"
   ]
  },
  {
   "cell_type": "code",
   "execution_count": 49,
   "id": "b8aeba7a",
   "metadata": {},
   "outputs": [
    {
     "data": {
      "text/html": [
       "<div>\n",
       "<style scoped>\n",
       "    .dataframe tbody tr th:only-of-type {\n",
       "        vertical-align: middle;\n",
       "    }\n",
       "\n",
       "    .dataframe tbody tr th {\n",
       "        vertical-align: top;\n",
       "    }\n",
       "\n",
       "    .dataframe thead th {\n",
       "        text-align: right;\n",
       "    }\n",
       "</style>\n",
       "<table border=\"1\" class=\"dataframe\">\n",
       "  <thead>\n",
       "    <tr style=\"text-align: right;\">\n",
       "      <th></th>\n",
       "      <th>num_young_drivers</th>\n",
       "      <th>age</th>\n",
       "      <th>num_of_children</th>\n",
       "      <th>years_job_held_for</th>\n",
       "      <th>income</th>\n",
       "      <th>value_of_home</th>\n",
       "      <th>commute_dist</th>\n",
       "      <th>vehicle_value</th>\n",
       "      <th>policy_tenure</th>\n",
       "      <th>5_year_total_claims_value</th>\n",
       "      <th>5_year_num_of_claims</th>\n",
       "      <th>license_points</th>\n",
       "      <th>vehicle_age</th>\n",
       "      <th>single_parent</th>\n",
       "      <th>married</th>\n",
       "      <th>gender</th>\n",
       "      <th>highest_education</th>\n",
       "      <th>occupation</th>\n",
       "      <th>type_of_use</th>\n",
       "      <th>vehicle_type</th>\n",
       "      <th>licence_revoked</th>\n",
       "      <th>address_type</th>\n",
       "    </tr>\n",
       "  </thead>\n",
       "  <tbody>\n",
       "    <tr>\n",
       "      <th>0</th>\n",
       "      <td>0.0</td>\n",
       "      <td>57.0</td>\n",
       "      <td>0.0</td>\n",
       "      <td>0.0</td>\n",
       "      <td>33707.0</td>\n",
       "      <td>0.0</td>\n",
       "      <td>40.0</td>\n",
       "      <td>7200.0</td>\n",
       "      <td>10.0</td>\n",
       "      <td>0.0</td>\n",
       "      <td>0.0</td>\n",
       "      <td>1.0</td>\n",
       "      <td>1.0</td>\n",
       "      <td>No</td>\n",
       "      <td>No</td>\n",
       "      <td>F</td>\n",
       "      <td>&lt;High School</td>\n",
       "      <td>Blue Collar</td>\n",
       "      <td>Private</td>\n",
       "      <td>SUV</td>\n",
       "      <td>No</td>\n",
       "      <td>Highly Rural/ Rural</td>\n",
       "    </tr>\n",
       "    <tr>\n",
       "      <th>1</th>\n",
       "      <td>2.0</td>\n",
       "      <td>41.0</td>\n",
       "      <td>3.0</td>\n",
       "      <td>14.0</td>\n",
       "      <td>17321.0</td>\n",
       "      <td>109835.0</td>\n",
       "      <td>24.0</td>\n",
       "      <td>6530.0</td>\n",
       "      <td>4.0</td>\n",
       "      <td>0.0</td>\n",
       "      <td>0.0</td>\n",
       "      <td>3.0</td>\n",
       "      <td>1.0</td>\n",
       "      <td>No</td>\n",
       "      <td>Yes</td>\n",
       "      <td>F</td>\n",
       "      <td>&lt;High School</td>\n",
       "      <td>Blue Collar</td>\n",
       "      <td>Private</td>\n",
       "      <td>Sports Car</td>\n",
       "      <td>No</td>\n",
       "      <td>Highly Urban/ Urban</td>\n",
       "    </tr>\n",
       "    <tr>\n",
       "      <th>2</th>\n",
       "      <td>0.0</td>\n",
       "      <td>29.0</td>\n",
       "      <td>2.0</td>\n",
       "      <td>12.0</td>\n",
       "      <td>54310.0</td>\n",
       "      <td>174139.0</td>\n",
       "      <td>39.0</td>\n",
       "      <td>1500.0</td>\n",
       "      <td>4.0</td>\n",
       "      <td>5419.0</td>\n",
       "      <td>1.0</td>\n",
       "      <td>5.0</td>\n",
       "      <td>6.0</td>\n",
       "      <td>Yes</td>\n",
       "      <td>No</td>\n",
       "      <td>M</td>\n",
       "      <td>&lt;High School</td>\n",
       "      <td>Clerical</td>\n",
       "      <td>Private</td>\n",
       "      <td>Minivan</td>\n",
       "      <td>No</td>\n",
       "      <td>Highly Urban/ Urban</td>\n",
       "    </tr>\n",
       "    <tr>\n",
       "      <th>3</th>\n",
       "      <td>0.0</td>\n",
       "      <td>46.0</td>\n",
       "      <td>1.0</td>\n",
       "      <td>13.0</td>\n",
       "      <td>62886.0</td>\n",
       "      <td>202178.0</td>\n",
       "      <td>18.0</td>\n",
       "      <td>22260.0</td>\n",
       "      <td>1.0</td>\n",
       "      <td>5290.0</td>\n",
       "      <td>1.0</td>\n",
       "      <td>6.0</td>\n",
       "      <td>6.0</td>\n",
       "      <td>Yes</td>\n",
       "      <td>No</td>\n",
       "      <td>F</td>\n",
       "      <td>Bachelors</td>\n",
       "      <td>Professional</td>\n",
       "      <td>Private</td>\n",
       "      <td>Minivan</td>\n",
       "      <td>No</td>\n",
       "      <td>Highly Urban/ Urban</td>\n",
       "    </tr>\n",
       "    <tr>\n",
       "      <th>4</th>\n",
       "      <td>0.0</td>\n",
       "      <td>39.0</td>\n",
       "      <td>0.0</td>\n",
       "      <td>8.0</td>\n",
       "      <td>115182.0</td>\n",
       "      <td>312887.0</td>\n",
       "      <td>25.0</td>\n",
       "      <td>5400.0</td>\n",
       "      <td>1.0</td>\n",
       "      <td>0.0</td>\n",
       "      <td>0.0</td>\n",
       "      <td>1.0</td>\n",
       "      <td>5.0</td>\n",
       "      <td>No</td>\n",
       "      <td>Yes</td>\n",
       "      <td>M</td>\n",
       "      <td>High School</td>\n",
       "      <td>Professional</td>\n",
       "      <td>Commercial</td>\n",
       "      <td>Pickup</td>\n",
       "      <td>No</td>\n",
       "      <td>Highly Urban/ Urban</td>\n",
       "    </tr>\n",
       "  </tbody>\n",
       "</table>\n",
       "</div>"
      ],
      "text/plain": [
       "   num_young_drivers   age  num_of_children  years_job_held_for    income  \\\n",
       "0                0.0  57.0              0.0                 0.0   33707.0   \n",
       "1                2.0  41.0              3.0                14.0   17321.0   \n",
       "2                0.0  29.0              2.0                12.0   54310.0   \n",
       "3                0.0  46.0              1.0                13.0   62886.0   \n",
       "4                0.0  39.0              0.0                 8.0  115182.0   \n",
       "\n",
       "   value_of_home  commute_dist  vehicle_value  policy_tenure  \\\n",
       "0            0.0          40.0         7200.0           10.0   \n",
       "1       109835.0          24.0         6530.0            4.0   \n",
       "2       174139.0          39.0         1500.0            4.0   \n",
       "3       202178.0          18.0        22260.0            1.0   \n",
       "4       312887.0          25.0         5400.0            1.0   \n",
       "\n",
       "   5_year_total_claims_value  5_year_num_of_claims  license_points  \\\n",
       "0                        0.0                   0.0             1.0   \n",
       "1                        0.0                   0.0             3.0   \n",
       "2                     5419.0                   1.0             5.0   \n",
       "3                     5290.0                   1.0             6.0   \n",
       "4                        0.0                   0.0             1.0   \n",
       "\n",
       "   vehicle_age single_parent married gender highest_education    occupation  \\\n",
       "0          1.0            No      No      F      <High School   Blue Collar   \n",
       "1          1.0            No     Yes      F      <High School   Blue Collar   \n",
       "2          6.0           Yes      No      M      <High School      Clerical   \n",
       "3          6.0           Yes      No      F         Bachelors  Professional   \n",
       "4          5.0            No     Yes      M       High School  Professional   \n",
       "\n",
       "  type_of_use vehicle_type licence_revoked         address_type  \n",
       "0     Private          SUV              No  Highly Rural/ Rural  \n",
       "1     Private   Sports Car              No  Highly Urban/ Urban  \n",
       "2     Private      Minivan              No  Highly Urban/ Urban  \n",
       "3     Private      Minivan              No  Highly Urban/ Urban  \n",
       "4  Commercial       Pickup              No  Highly Urban/ Urban  "
      ]
     },
     "execution_count": 49,
     "metadata": {},
     "output_type": "execute_result"
    }
   ],
   "source": [
    "# Rejoin dfs\n",
    "train_imputed_df = pd.concat([num_test_data_imputed, cat_test_ata_imputed], axis = 1)\n",
    "\n",
    "# Check data\n",
    "train_imputed_df.head()"
   ]
  },
  {
   "cell_type": "code",
   "execution_count": 50,
   "id": "01345ba0",
   "metadata": {},
   "outputs": [
    {
     "data": {
      "text/plain": [
       "num_young_drivers            0\n",
       "age                          0\n",
       "num_of_children              0\n",
       "years_job_held_for           0\n",
       "income                       0\n",
       "value_of_home                0\n",
       "commute_dist                 0\n",
       "vehicle_value                0\n",
       "policy_tenure                0\n",
       "5_year_total_claims_value    0\n",
       "5_year_num_of_claims         0\n",
       "license_points               0\n",
       "vehicle_age                  0\n",
       "single_parent                0\n",
       "married                      0\n",
       "gender                       0\n",
       "highest_education            0\n",
       "occupation                   0\n",
       "type_of_use                  0\n",
       "vehicle_type                 0\n",
       "licence_revoked              0\n",
       "address_type                 0\n",
       "dtype: int64"
      ]
     },
     "execution_count": 50,
     "metadata": {},
     "output_type": "execute_result"
    }
   ],
   "source": [
    "train_imputed_df.isnull().sum()"
   ]
  },
  {
   "cell_type": "markdown",
   "id": "5d681759",
   "metadata": {},
   "source": [
    "We now need to look at encoding our categorical features. Most machine learning algorithms need numerical data to work with, so we need to convert our text based categorical data t o numerical values. That's essentially all encoding is but there's several methods to do that. "
   ]
  },
  {
   "cell_type": "markdown",
   "id": "bfbd4186",
   "metadata": {},
   "source": [
    "#### 3.4. Categorical Features Encoding"
   ]
  },
  {
   "cell_type": "code",
   "execution_count": 51,
   "id": "8c31bc5f",
   "metadata": {},
   "outputs": [
    {
     "data": {
      "text/plain": [
       "single_parent        2\n",
       "married              2\n",
       "gender               2\n",
       "highest_education    5\n",
       "occupation           8\n",
       "type_of_use          2\n",
       "vehicle_type         6\n",
       "licence_revoked      2\n",
       "address_type         2\n",
       "dtype: int64"
      ]
     },
     "execution_count": 51,
     "metadata": {},
     "output_type": "execute_result"
    }
   ],
   "source": [
    "cat_test_ata_imputed.nunique()"
   ]
  },
  {
   "cell_type": "markdown",
   "id": "979d72cc",
   "metadata": {},
   "source": [
    "We can see that msot of the features has 2 unique values, this means that we can just consider these as binary values, zero or one.\n",
    "Highest education has 5 different values, and it's improtante to note here that they do have an order or ranking. So gettinga PhD for instance is a higher ranking than graduating to high School. The presence of this ranking means that this is an ordinal feature and this isn't true for all categorical features. \n",
    "For example, occupation has eight unique values, but thre's no ranking or order to them. The same is true for car type, for these non-binary non-ordinal features we need to do something called one hot encoding.\n",
    "One hot encoding creates a new column or feature for each uniqeu value of existing feature only one of these new features that's created is equal to one, and hence why it's called one hot encoding. So we can use one hot encoding for occupation and car type and we use ordinal encoding for highest education level. The remaining categorical features we use binary encoding."
   ]
  },
  {
   "cell_type": "code",
   "execution_count": 60,
   "id": "2bb8f50d",
   "metadata": {},
   "outputs": [],
   "source": [
    "#  Define ordinal features\n",
    "cat_cols_ord = ['highest_education']\n",
    "# Define finary features\n",
    "cat_cols_bin = ['single_parent', 'married', 'gender', 'type_of_use', 'licence_revoked', 'address_type']\n",
    "# Define one-hot features\n",
    "cat_cols_one_hot = ['occupation', 'vehicle_type']"
   ]
  },
  {
   "cell_type": "code",
   "execution_count": 61,
   "id": "506a51ed",
   "metadata": {},
   "outputs": [],
   "source": [
    "# Create encoders\n",
    "\n",
    "# First define education rank/order\n",
    "education_rank = [['<High School', 'High School', 'Bachelors', 'Masters', 'PhD']]\n",
    "\n",
    "# Define ordinal encoder\n",
    "ord_encoder = OrdinalEncoder(categories = education_rank)\n",
    "\n",
    "# Define binary encoder\n",
    "bin_encoder = OrdinalEncoder()\n",
    "\n",
    "# Define one-hot encoder\n",
    "one_hot_encoder = OneHotEncoder(handle_unknown='ignore', sparse_output=False)"
   ]
  },
  {
   "cell_type": "markdown",
   "id": "075fca02",
   "metadata": {},
   "source": [
    "Fit/transform encoders"
   ]
  },
  {
   "cell_type": "code",
   "execution_count": 62,
   "id": "959177b2",
   "metadata": {},
   "outputs": [],
   "source": [
    "# Encode ordinals\n",
    "ord_encoded = ord_encoder.fit_transform(cat_test_ata_imputed[cat_cols_ord])\n",
    "\n",
    "# Encode binaries\n",
    "bin_encoded = bin_encoder.fit_transform(cat_test_ata_imputed[cat_cols_bin])\n",
    "\n",
    "# Encode with one-hot\n",
    "one_hot_encoded = one_hot_encoder.fit_transform(cat_test_ata_imputed[cat_cols_one_hot])"
   ]
  },
  {
   "cell_type": "code",
   "execution_count": 64,
   "id": "e9ed1d0d",
   "metadata": {},
   "outputs": [
    {
     "data": {
      "text/html": [
       "<div>\n",
       "<style scoped>\n",
       "    .dataframe tbody tr th:only-of-type {\n",
       "        vertical-align: middle;\n",
       "    }\n",
       "\n",
       "    .dataframe tbody tr th {\n",
       "        vertical-align: top;\n",
       "    }\n",
       "\n",
       "    .dataframe thead th {\n",
       "        text-align: right;\n",
       "    }\n",
       "</style>\n",
       "<table border=\"1\" class=\"dataframe\">\n",
       "  <thead>\n",
       "    <tr style=\"text-align: right;\">\n",
       "      <th></th>\n",
       "      <th>highest_education</th>\n",
       "      <th>single_parent</th>\n",
       "      <th>married</th>\n",
       "      <th>gender</th>\n",
       "      <th>type_of_use</th>\n",
       "      <th>licence_revoked</th>\n",
       "      <th>address_type</th>\n",
       "      <th>occupation_Blue Collar</th>\n",
       "      <th>occupation_Clerical</th>\n",
       "      <th>occupation_Doctor</th>\n",
       "      <th>occupation_Home Maker</th>\n",
       "      <th>occupation_Lawyer</th>\n",
       "      <th>occupation_Manager</th>\n",
       "      <th>occupation_Professional</th>\n",
       "      <th>occupation_Student</th>\n",
       "      <th>vehicle_type_Minivan</th>\n",
       "      <th>vehicle_type_Panel Truck</th>\n",
       "      <th>vehicle_type_Pickup</th>\n",
       "      <th>vehicle_type_SUV</th>\n",
       "      <th>vehicle_type_Sports Car</th>\n",
       "      <th>vehicle_type_Van</th>\n",
       "    </tr>\n",
       "  </thead>\n",
       "  <tbody>\n",
       "    <tr>\n",
       "      <th>0</th>\n",
       "      <td>0.0</td>\n",
       "      <td>0.0</td>\n",
       "      <td>0.0</td>\n",
       "      <td>0.0</td>\n",
       "      <td>1.0</td>\n",
       "      <td>0.0</td>\n",
       "      <td>0.0</td>\n",
       "      <td>1.0</td>\n",
       "      <td>0.0</td>\n",
       "      <td>0.0</td>\n",
       "      <td>0.0</td>\n",
       "      <td>0.0</td>\n",
       "      <td>0.0</td>\n",
       "      <td>0.0</td>\n",
       "      <td>0.0</td>\n",
       "      <td>0.0</td>\n",
       "      <td>0.0</td>\n",
       "      <td>0.0</td>\n",
       "      <td>1.0</td>\n",
       "      <td>0.0</td>\n",
       "      <td>0.0</td>\n",
       "    </tr>\n",
       "    <tr>\n",
       "      <th>1</th>\n",
       "      <td>0.0</td>\n",
       "      <td>0.0</td>\n",
       "      <td>1.0</td>\n",
       "      <td>0.0</td>\n",
       "      <td>1.0</td>\n",
       "      <td>0.0</td>\n",
       "      <td>1.0</td>\n",
       "      <td>1.0</td>\n",
       "      <td>0.0</td>\n",
       "      <td>0.0</td>\n",
       "      <td>0.0</td>\n",
       "      <td>0.0</td>\n",
       "      <td>0.0</td>\n",
       "      <td>0.0</td>\n",
       "      <td>0.0</td>\n",
       "      <td>0.0</td>\n",
       "      <td>0.0</td>\n",
       "      <td>0.0</td>\n",
       "      <td>0.0</td>\n",
       "      <td>1.0</td>\n",
       "      <td>0.0</td>\n",
       "    </tr>\n",
       "    <tr>\n",
       "      <th>2</th>\n",
       "      <td>0.0</td>\n",
       "      <td>1.0</td>\n",
       "      <td>0.0</td>\n",
       "      <td>1.0</td>\n",
       "      <td>1.0</td>\n",
       "      <td>0.0</td>\n",
       "      <td>1.0</td>\n",
       "      <td>0.0</td>\n",
       "      <td>1.0</td>\n",
       "      <td>0.0</td>\n",
       "      <td>0.0</td>\n",
       "      <td>0.0</td>\n",
       "      <td>0.0</td>\n",
       "      <td>0.0</td>\n",
       "      <td>0.0</td>\n",
       "      <td>1.0</td>\n",
       "      <td>0.0</td>\n",
       "      <td>0.0</td>\n",
       "      <td>0.0</td>\n",
       "      <td>0.0</td>\n",
       "      <td>0.0</td>\n",
       "    </tr>\n",
       "    <tr>\n",
       "      <th>3</th>\n",
       "      <td>2.0</td>\n",
       "      <td>1.0</td>\n",
       "      <td>0.0</td>\n",
       "      <td>0.0</td>\n",
       "      <td>1.0</td>\n",
       "      <td>0.0</td>\n",
       "      <td>1.0</td>\n",
       "      <td>0.0</td>\n",
       "      <td>0.0</td>\n",
       "      <td>0.0</td>\n",
       "      <td>0.0</td>\n",
       "      <td>0.0</td>\n",
       "      <td>0.0</td>\n",
       "      <td>1.0</td>\n",
       "      <td>0.0</td>\n",
       "      <td>1.0</td>\n",
       "      <td>0.0</td>\n",
       "      <td>0.0</td>\n",
       "      <td>0.0</td>\n",
       "      <td>0.0</td>\n",
       "      <td>0.0</td>\n",
       "    </tr>\n",
       "    <tr>\n",
       "      <th>4</th>\n",
       "      <td>1.0</td>\n",
       "      <td>0.0</td>\n",
       "      <td>1.0</td>\n",
       "      <td>1.0</td>\n",
       "      <td>0.0</td>\n",
       "      <td>0.0</td>\n",
       "      <td>1.0</td>\n",
       "      <td>0.0</td>\n",
       "      <td>0.0</td>\n",
       "      <td>0.0</td>\n",
       "      <td>0.0</td>\n",
       "      <td>0.0</td>\n",
       "      <td>0.0</td>\n",
       "      <td>1.0</td>\n",
       "      <td>0.0</td>\n",
       "      <td>0.0</td>\n",
       "      <td>0.0</td>\n",
       "      <td>1.0</td>\n",
       "      <td>0.0</td>\n",
       "      <td>0.0</td>\n",
       "      <td>0.0</td>\n",
       "    </tr>\n",
       "  </tbody>\n",
       "</table>\n",
       "</div>"
      ],
      "text/plain": [
       "   highest_education  single_parent  married  gender  type_of_use  \\\n",
       "0                0.0            0.0      0.0     0.0          1.0   \n",
       "1                0.0            0.0      1.0     0.0          1.0   \n",
       "2                0.0            1.0      0.0     1.0          1.0   \n",
       "3                2.0            1.0      0.0     0.0          1.0   \n",
       "4                1.0            0.0      1.0     1.0          0.0   \n",
       "\n",
       "   licence_revoked  address_type  occupation_Blue Collar  occupation_Clerical  \\\n",
       "0              0.0           0.0                     1.0                  0.0   \n",
       "1              0.0           1.0                     1.0                  0.0   \n",
       "2              0.0           1.0                     0.0                  1.0   \n",
       "3              0.0           1.0                     0.0                  0.0   \n",
       "4              0.0           1.0                     0.0                  0.0   \n",
       "\n",
       "   occupation_Doctor  occupation_Home Maker  occupation_Lawyer  \\\n",
       "0                0.0                    0.0                0.0   \n",
       "1                0.0                    0.0                0.0   \n",
       "2                0.0                    0.0                0.0   \n",
       "3                0.0                    0.0                0.0   \n",
       "4                0.0                    0.0                0.0   \n",
       "\n",
       "   occupation_Manager  occupation_Professional  occupation_Student  \\\n",
       "0                 0.0                      0.0                 0.0   \n",
       "1                 0.0                      0.0                 0.0   \n",
       "2                 0.0                      0.0                 0.0   \n",
       "3                 0.0                      1.0                 0.0   \n",
       "4                 0.0                      1.0                 0.0   \n",
       "\n",
       "   vehicle_type_Minivan  vehicle_type_Panel Truck  vehicle_type_Pickup  \\\n",
       "0                   0.0                       0.0                  0.0   \n",
       "1                   0.0                       0.0                  0.0   \n",
       "2                   1.0                       0.0                  0.0   \n",
       "3                   1.0                       0.0                  0.0   \n",
       "4                   0.0                       0.0                  1.0   \n",
       "\n",
       "   vehicle_type_SUV  vehicle_type_Sports Car  vehicle_type_Van  \n",
       "0               1.0                      0.0               0.0  \n",
       "1               0.0                      1.0               0.0  \n",
       "2               0.0                      0.0               0.0  \n",
       "3               0.0                      0.0               0.0  \n",
       "4               0.0                      0.0               0.0  "
      ]
     },
     "execution_count": 64,
     "metadata": {},
     "output_type": "execute_result"
    }
   ],
   "source": [
    "# Create dfs for each array\n",
    "ord_encoded_df = pd.DataFrame(ord_encoded)\n",
    "ord_encoded_df.columns = cat_cols_ord\n",
    "\n",
    "bin_encoded_df = pd.DataFrame(bin_encoded)\n",
    "bin_encoded_df.columns = cat_cols_bin\n",
    "\n",
    "one_hot_encoded_df = pd.DataFrame(one_hot_encoded)\n",
    "one_hot_encoded_df.columns = one_hot_encoder.get_feature_names_out()\n",
    "\n",
    "# Joina ll encoded dfs to a sinlge\n",
    "all_cat_encoded_df = pd.concat([ord_encoded_df, bin_encoded_df, one_hot_encoded_df], axis = 1)\n",
    "all_cat_encoded_df.head()\n",
    "\n"
   ]
  },
  {
   "cell_type": "code",
   "execution_count": 66,
   "id": "6e162155",
   "metadata": {},
   "outputs": [],
   "source": [
    "# Bring numerical and categorical data back together\n",
    "X_train_cleaned = pd.concat([train_imputed_df[numerical_cols], all_cat_encoded_df], axis = 1)\n",
    "\n"
   ]
  },
  {
   "cell_type": "code",
   "execution_count": null,
   "id": "a1b66814",
   "metadata": {},
   "outputs": [],
   "source": []
  }
 ],
 "metadata": {
  "kernelspec": {
   "display_name": "dsa",
   "language": "python",
   "name": "python3"
  },
  "language_info": {
   "codemirror_mode": {
    "name": "ipython",
    "version": 3
   },
   "file_extension": ".py",
   "mimetype": "text/x-python",
   "name": "python",
   "nbconvert_exporter": "python",
   "pygments_lexer": "ipython3",
   "version": "3.12.7"
  }
 },
 "nbformat": 4,
 "nbformat_minor": 5
}
